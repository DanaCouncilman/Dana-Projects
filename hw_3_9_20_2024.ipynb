{
 "cells": [
  {
   "cell_type": "markdown",
   "id": "d98617de-3321-4b6e-8dbe-68cec822ad86",
   "metadata": {},
   "source": [
    "## HW Week 3"
   ]
  },
  {
   "cell_type": "markdown",
   "id": "440553aa-4138-409b-a6c6-58d76f6aaf87",
   "metadata": {},
   "source": [
    "### 4.1 For Loops(20 pts)\n",
    "\n",
    "4.1.1. Write a Python program that takes a list of numbers and prints each number multiplied by 2 using a for loop."
   ]
  },
  {
   "cell_type": "code",
   "execution_count": 5,
   "id": "659ceae8-b785-49d6-9fa3-0a023256e9cf",
   "metadata": {},
   "outputs": [
    {
     "name": "stdout",
     "output_type": "stream",
     "text": [
      "[2, 4, 6, 8, 10, 12, 14, 16, 18, 20]\n"
     ]
    }
   ],
   "source": [
    "numbers = [1,2,3,4,5,6,7,8,9,10]\n",
    "numbers_2 = []\n",
    "for number in numbers: \n",
    " if  True: \n",
    "        numbers_2.append(number*2)\n",
    "else: \n",
    "    pass\n",
    "print(numbers_2)"
   ]
  },
  {
   "cell_type": "markdown",
   "id": "6f712b4c-8998-4410-a1fe-fe58aa6e1d37",
   "metadata": {},
   "source": [
    "4.1.2 Write a Python program that takes a list of strings and prints the length of each string using a for loop."
   ]
  },
  {
   "cell_type": "code",
   "execution_count": 7,
   "id": "830dd208-6744-4150-adce-7f0e3f1d5f3c",
   "metadata": {},
   "outputs": [
    {
     "name": "stdout",
     "output_type": "stream",
     "text": [
      "[5, 6, 6, 4]\n"
     ]
    }
   ],
   "source": [
    "strings = [\"apple\", \"banana\", \"cherry\", \"plum\"]\n",
    "lengths = []\n",
    "for fruit in strings:\n",
    "    if True:\n",
    "        lengths.append(len(fruit))\n",
    "else: \n",
    "    pass\n",
    "print(lengths)\n"
   ]
  },
  {
   "cell_type": "markdown",
   "id": "1445e338-dba7-4149-9c89-7fe98b5a18b7",
   "metadata": {},
   "source": [
    "4.1.3 Write a Python program that takes the a string and prints each character in the string using a for loop."
   ]
  },
  {
   "cell_type": "code",
   "execution_count": 9,
   "id": "43bcf3b3-ae2d-4ec4-a66d-4ae5cfea0c2d",
   "metadata": {},
   "outputs": [
    {
     "name": "stdout",
     "output_type": "stream",
     "text": [
      "['h', 'e', 'l', 'l', 'o']\n"
     ]
    }
   ],
   "source": [
    "string = \"hello\"\n",
    "character = []\n",
    "for word in string:\n",
    "    if True: \n",
    "        character.extend(word)\n",
    "else:\n",
    "    pass \n",
    "print(character)"
   ]
  },
  {
   "cell_type": "markdown",
   "id": "c9fa51fc-9c8f-44f4-a8df-f5ae31597a70",
   "metadata": {},
   "source": [
    "4.1.4 Write a Python program that takes a list of numbers and prints only the numbers that are greater than 5 using a for loop."
   ]
  },
  {
   "cell_type": "code",
   "execution_count": 11,
   "id": "558938ec-2779-4568-a3ec-45fbea374a2a",
   "metadata": {},
   "outputs": [
    {
     "name": "stdout",
     "output_type": "stream",
     "text": [
      "[7, 9, 8, 22, 52, 6]\n"
     ]
    }
   ],
   "source": [
    "numbers = [1, 7, 4, 9, 2, 8, 22, 52, 6, 3]\n",
    "numbers_five_plus = []\n",
    "for number in numbers:\n",
    "    if number > 5:\n",
    "        numbers_five_plus.append(number)\n",
    "else:\n",
    "    pass\n",
    "print(numbers_five_plus)"
   ]
  },
  {
   "cell_type": "markdown",
   "id": "2d6fb263-22e2-46c4-bc05-1b97fa7b466f",
   "metadata": {},
   "source": [
    "4.1.5 Write a Python program that takes a list of strings and prints only the strings that start with the letter \"a\" using a for loop."
   ]
  },
  {
   "cell_type": "code",
   "execution_count": 13,
   "id": "e01293a1-2067-4be3-bfdc-7a21d76e99fd",
   "metadata": {},
   "outputs": [
    {
     "name": "stdout",
     "output_type": "stream",
     "text": [
      "['apple', 'avocado']\n"
     ]
    }
   ],
   "source": [
    "strings = [\"apple\", \"banana\", \"avocado\"]\n",
    "more_fruits=[]\n",
    "for fruit in strings:\n",
    "    if fruit.startswith(\"a\"):\n",
    "        more_fruits.append(fruit)\n",
    "    else: \n",
    "        pass\n",
    "print(more_fruits)\n"
   ]
  },
  {
   "cell_type": "markdown",
   "id": "3ac4b75f-cfed-4b1b-a05b-2b967acb587f",
   "metadata": {},
   "source": [
    "4.1.6 Write a Python program that takes a list of strings and prints only the fruits that start with the letter \"a\" using a for loop."
   ]
  },
  {
   "cell_type": "code",
   "execution_count": 15,
   "id": "c7c90032-9a72-41f8-8866-bfa4e6f0a3d0",
   "metadata": {},
   "outputs": [
    {
     "name": "stdout",
     "output_type": "stream",
     "text": [
      "['apple', 'açaí']\n"
     ]
    }
   ],
   "source": [
    "strings = [\"apple\", \"banana\", \"aardvark\", \"açaí\", \"ankles\"]\n",
    "a_fruits=[]\n",
    "strings.remove(\"aardvark\")\n",
    "strings.remove(\"ankles\")\n",
    "for fruit in strings:\n",
    "    if fruit == \"aardvark\":\n",
    "        strings.remove(fruit)\n",
    "    elif fruit == \"ankles\":\n",
    "        strings.remove(fruit)\n",
    "    elif fruit.startswith(\"a\"):\n",
    "        a_fruits.append(fruit)\n",
    "    else: \n",
    "        pass\n",
    "print(a_fruits)\n"
   ]
  },
  {
   "cell_type": "markdown",
   "id": "eed638ce-68bf-4d4e-bffd-439c5cb0c0f9",
   "metadata": {},
   "source": [
    "4.1.7 Write a Python program that takes a list of strings and populates three new lists: one called \"short\", one called \"medium\" and one called \"long\", defiend as following: \"long\" if the length of the string is greater than 5, \"short\" if the length is less than 5, and \"medium\" if the length is exactly 5 using a for loop and an if/elif/else condition."
   ]
  },
  {
   "cell_type": "code",
   "execution_count": 17,
   "id": "3b431d49-2922-4433-b4d4-d54f7537f48e",
   "metadata": {},
   "outputs": [
    {
     "name": "stdout",
     "output_type": "stream",
     "text": [
      "['date', 'fig', 'açaí']\n",
      "['apple']\n",
      "['banana', 'cherry', 'elderberry', 'blueberry', 'nectarine']\n"
     ]
    }
   ],
   "source": [
    "strings = [\"apple\", \"banana\", \"cherry\", \"date\", \"elderberry\", \"fig\", \"blueberry\", \"nectarine\", \"açaí\" ]\n",
    "short = []\n",
    "medium = []\n",
    "long = []\n",
    "for fruit in strings:\n",
    "    if len(fruit)> 5:\n",
    "        long.append(fruit)\n",
    "    elif len(fruit) <5:\n",
    "        short.append(fruit)\n",
    "    else:  \n",
    "        medium.append(fruit)\n",
    "        \n",
    "print(short)\n",
    "print(medium)\n",
    "print(long)\n"
   ]
  },
  {
   "cell_type": "markdown",
   "id": "c12f6683-800a-4fa8-852e-790aaf4c3513",
   "metadata": {},
   "source": [
    "4.1.8 Initialize an three empty lists, and write a Python program that fills those lists with positive, negative, and zero numbers using a for loop and if/elif/else conditions, and then prints the total number of each using an f string. The output should be, for example, \"There are 5 negative numbers in the negative number list\""
   ]
  },
  {
   "cell_type": "code",
   "execution_count": 19,
   "id": "92301ad8-0450-4c2a-8ff8-1f8ce766c595",
   "metadata": {},
   "outputs": [
    {
     "name": "stdout",
     "output_type": "stream",
     "text": [
      "There are 4 numbers in the list\n",
      "There are 3 numbers equal to zero in the list\n",
      "There are 5 positive numbers in the list\n",
      "[-2, -4, -7, -9]\n",
      "[0, 0, 0]\n",
      "[1, 3, 5, 2, 5]\n"
     ]
    }
   ],
   "source": [
    "numbers = [1, -2, 0, 3, -4, 5, 0, -7, -9, 0, 2, 5]\n",
    "negative = []\n",
    "zero = []\n",
    "positive = []\n",
    "for number in numbers:\n",
    "    if number > 0:\n",
    "        positive.append(number)\n",
    "    elif number < 0:\n",
    "        negative.append(number)\n",
    "    else:  \n",
    "       zero.append(number)\n",
    "        \n",
    "print(f\"There are {len(negative)} numbers in the list\")\n",
    "print(f\"There are {len(zero)} numbers equal to zero in the list\")\n",
    "print(f\"There are {len(positive)} positive numbers in the list\")\n",
    "print(negative)\n",
    "print(zero)\n",
    "print(positive)"
   ]
  },
  {
   "cell_type": "markdown",
   "id": "6e01f746-7452-4887-90d1-909648cc19be",
   "metadata": {},
   "source": [
    "4.1.9 In the following list_of_lists, I really want to print 1, 2, 3, 4, 5, 6, 7, 8, 9 but when I use a for loop, I get something different. Try it below:"
   ]
  },
  {
   "cell_type": "code",
   "execution_count": 21,
   "id": "32fa9b21-0be7-484a-9c0f-54ced0c3b5d5",
   "metadata": {},
   "outputs": [
    {
     "name": "stdout",
     "output_type": "stream",
     "text": [
      "[1, 2, 3]\n",
      "[4, 5, 6]\n",
      "[7, 8, 9]\n"
     ]
    }
   ],
   "source": [
    "#Run this code:\n",
    "list_of_lists = [[1, 2, 3], [4, 5, 6], [7, 8, 9]]\n",
    "for x in list_of_lists:\n",
    "    print(x)"
   ]
  },
  {
   "cell_type": "markdown",
   "id": "0a58a8fb-ab8b-4940-8e1b-ce77e146e274",
   "metadata": {},
   "source": [
    "The reason is because this is a list of lists. You can see that there are three lists within this single list. Can you access the lists within the list? Sure you can. You use a for loop within a for loop to do that as illustrated below"
   ]
  },
  {
   "cell_type": "code",
   "execution_count": 23,
   "id": "0745e213-8f49-4bfd-a129-8a533ec4c068",
   "metadata": {},
   "outputs": [
    {
     "name": "stdout",
     "output_type": "stream",
     "text": [
      "1\n",
      "2\n",
      "3\n",
      "4\n",
      "5\n",
      "6\n",
      "7\n",
      "8\n",
      "9\n"
     ]
    }
   ],
   "source": [
    "# check out this code and run it\n",
    "list_of_lists = [[1, 2, 3], [4, 5, 6], [7, 8, 9]]\n",
    "for outer_loop in list_of_lists:\n",
    "    for inner_loop in outer_loop:\n",
    "        print(inner_loop)"
   ]
  },
  {
   "cell_type": "markdown",
   "id": "872868bb-2e8f-49dc-b482-5df67bdf78e1",
   "metadata": {},
   "source": [
    "4.1.10 A palindrome is a word, sentence, verse, or even number that reads the same backward or forward. Write a Python program that takes a list of strings and prints only the strings that are palindromes using a for loop, if/else conditions, and string slicing."
   ]
  },
  {
   "cell_type": "code",
   "execution_count": 25,
   "id": "984b7064-3b96-4210-bac8-6f96731948f7",
   "metadata": {},
   "outputs": [
    {
     "name": "stdout",
     "output_type": "stream",
     "text": [
      "['racecar', 'level', 'deified', 'civic']\n"
     ]
    }
   ],
   "source": [
    "strings = [\"racecar\", \"banana\", \"level\", \"deified\", \"civic\"]\n",
    "palindrome = []\n",
    "for x in strings:\n",
    "     if x.upper() == x[::-1].upper():\n",
    "         palindrome.append(x)\n",
    "     else:\n",
    "        pass \n",
    "print(palindrome)\n"
   ]
  },
  {
   "cell_type": "markdown",
   "id": "ff16fe73-c5de-4851-8e5b-e6989f550243",
   "metadata": {},
   "source": [
    "### 4.2 Dictionaries (10pts)"
   ]
  },
  {
   "cell_type": "markdown",
   "id": "5a836bf1-e54e-40ad-9163-e8e224e3bbbd",
   "metadata": {},
   "source": [
    "\n",
    "4.2.1 Write a Python program that creates a dictionary called student with three key-value pairs: name: Alice, age:25, hometown: New York. Print the dictionary using the \"print\" function."
   ]
  },
  {
   "cell_type": "code",
   "execution_count": 28,
   "id": "767f4ce7-5332-4795-b1cd-a1f88ef04248",
   "metadata": {},
   "outputs": [
    {
     "name": "stdout",
     "output_type": "stream",
     "text": [
      "{'Name': 'Alice', 'Age': 25, 'Hometown': 'New York'}\n"
     ]
    }
   ],
   "source": [
    "students = {\"Name\":\"Alice\", \"Age\": 25, \"Hometown\": \"New York\"} \n",
    "print(students)"
   ]
  },
  {
   "cell_type": "code",
   "execution_count": 29,
   "id": "0a33dcff-dfbe-4dce-8abc-9ebec8d3c657",
   "metadata": {},
   "outputs": [
    {
     "ename": "SyntaxError",
     "evalue": "invalid syntax (3226001113.py, line 1)",
     "output_type": "error",
     "traceback": [
      "\u001b[1;36m  Cell \u001b[1;32mIn[29], line 1\u001b[1;36m\u001b[0m\n\u001b[1;33m    4.2.2 Access the value 25 from the dictionary above.\u001b[0m\n\u001b[1;37m       ^\u001b[0m\n\u001b[1;31mSyntaxError\u001b[0m\u001b[1;31m:\u001b[0m invalid syntax\n"
     ]
    }
   ],
   "source": [
    "4.2.2 Access the value 25 from the dictionary above."
   ]
  },
  {
   "cell_type": "code",
   "execution_count": 32,
   "id": "bab2cfbb-41b4-4ffc-a001-ca5b08d15483",
   "metadata": {},
   "outputs": [
    {
     "name": "stdout",
     "output_type": "stream",
     "text": [
      "25\n"
     ]
    }
   ],
   "source": [
    "print(students[\"Age\"])"
   ]
  },
  {
   "cell_type": "markdown",
   "id": "ff6b3b8b-b8a3-4a09-901c-e4b8be66ec77",
   "metadata": {},
   "source": [
    "4.2.3 Write two ways you could access all the keys from the dictionary above. Use a \"method\" and a for loop."
   ]
  },
  {
   "cell_type": "code",
   "execution_count": 34,
   "id": "68aa0ad6-e77b-440a-b731-488477a314db",
   "metadata": {},
   "outputs": [
    {
     "name": "stdout",
     "output_type": "stream",
     "text": [
      "dict_keys(['Name', 'Age', 'Hometown'])\n",
      "Name\n",
      "Age\n",
      "Hometown\n"
     ]
    }
   ],
   "source": [
    "print(students.keys())\n",
    "\n",
    "for element in students:\n",
    "    if element in students.keys():\n",
    "        print(element)\n",
    "    else:  \n",
    "        pass "
   ]
  },
  {
   "cell_type": "markdown",
   "id": "321f7a25-9c53-4c2b-97a9-d1da49d81576",
   "metadata": {},
   "source": [
    "4.2.4 Write two ways you could access all the values from the dictionary above. (Remember I introdcued how to use a for loop to access values in a dictionary)."
   ]
  },
  {
   "cell_type": "code",
   "execution_count": 56,
   "id": "f9b38c21-69ab-4c6f-9577-415020fe83ff",
   "metadata": {},
   "outputs": [
    {
     "name": "stdout",
     "output_type": "stream",
     "text": [
      "dict_values(['Alice', 25, 'New York'])\n",
      "Alice\n",
      "25\n",
      "New York\n"
     ]
    }
   ],
   "source": [
    "print(students.values())\n",
    "\n",
    "for value in students.values():\n",
    "    if value in students.values():\n",
    "         print(value)\n",
    "    else:  \n",
    "          pass "
   ]
  },
  {
   "cell_type": "markdown",
   "id": "8ff3c9f8-0120-49f5-9e41-f23ea89caa71",
   "metadata": {},
   "source": [
    "4.2.5 Look up the correct syntax for writing a for loop with dictionaries so that you print each key value pair in the dictionary above."
   ]
  },
  {
   "cell_type": "code",
   "execution_count": 58,
   "id": "d2f725cb-c436-463b-b8fe-e1686d5ccfce",
   "metadata": {},
   "outputs": [
    {
     "name": "stdout",
     "output_type": "stream",
     "text": [
      "Name : Alice\n",
      "Age : 25\n",
      "Hometown : New York\n"
     ]
    }
   ],
   "source": [
    "for key, value in students.items():\n",
    "    print(key, \":\", value)"
   ]
  },
  {
   "cell_type": "markdown",
   "id": "fefd9744-f2d5-46bb-89a1-9398af37ffbf",
   "metadata": {},
   "source": [
    "### 4.3 Lists (10pts)"
   ]
  },
  {
   "cell_type": "markdown",
   "id": "80774d74-5eef-474f-b22f-2df7592fab77",
   "metadata": {},
   "source": [
    "4.3.1 Create a list called my_list with the following elements: \"apple\", \"banana\", \"cherry\", \"date\", and \"elderberry\". Then, use slicing to extract a sublist that includes only the second, third, and fourth elements. Print the resulting sublist."
   ]
  },
  {
   "cell_type": "code",
   "execution_count": 3,
   "id": "6cb7703c-2557-4142-93db-73df473ab505",
   "metadata": {},
   "outputs": [
    {
     "name": "stdout",
     "output_type": "stream",
     "text": [
      "['banana', 'cherry', 'date']\n"
     ]
    }
   ],
   "source": [
    "my_list = [\"apple\", \"banana\", \"cherry\", \"date\", \"elderberry\"]\n",
    "sublist = my_list[1:4]\n",
    "print(sublist)"
   ]
  },
  {
   "cell_type": "markdown",
   "id": "b3c12f4a-b7d3-45b3-a565-23a5c998ad0c",
   "metadata": {},
   "source": [
    "4.3.2 Create a list called numbers with the following elements: 2, 5, 1, 9, 8, 3, 6, and 4. Then, use the sort() method to sort the list in ascending order. Print the resulting sorted list."
   ]
  },
  {
   "cell_type": "code",
   "execution_count": 11,
   "id": "f644c0ee-4a10-44b6-a23c-a075b5872bc4",
   "metadata": {},
   "outputs": [
    {
     "name": "stdout",
     "output_type": "stream",
     "text": [
      "[1, 2, 3, 4, 5, 6, 8, 9]\n"
     ]
    }
   ],
   "source": [
    "numbers = [2, 5, 1, 9, 8, 3, 6, 4]\n",
    "numbers.sort()\n",
    "print(numbers)"
   ]
  },
  {
   "cell_type": "markdown",
   "id": "f716d16a-881b-4d4c-a7cb-203fe0539421",
   "metadata": {},
   "source": [
    "4.3.3 Create two lists: list1 with the following elements: \"apple\", \"banana\", and \"cherry\", and list2 with the following elements: \"date\", \"elderberry\", and \"fig\". Then, use the extend() method to add the elements of list2 to list1. Print the resulting combined list."
   ]
  },
  {
   "cell_type": "code",
   "execution_count": 13,
   "id": "fe1828f0-4c1e-40fb-98b2-178a3f2aa89c",
   "metadata": {},
   "outputs": [
    {
     "name": "stdout",
     "output_type": "stream",
     "text": [
      "['apple', 'banana', 'cherry', 'date', 'elderberry', 'fig']\n"
     ]
    }
   ],
   "source": [
    "list1 = [\"apple\", \"banana\", \"cherry\"]\n",
    "list2 = [\"date\", \"elderberry\", \"fig\"]\n",
    "list1.extend(list2)\n",
    "print(list1)"
   ]
  },
  {
   "cell_type": "markdown",
   "id": "e8d8f8fe-3a6f-412d-86b6-03d8393adc93",
   "metadata": {},
   "source": [
    "4.3.4 Create a list called numbers with the following elements: 2, 5, 1, 9, 8, 3, 6, and 4. Then, use the remove() method to remove the element 9 from the list. Print the resulting modified list."
   ]
  },
  {
   "cell_type": "code",
   "execution_count": 15,
   "id": "245ba7eb-2ce6-4971-8fa7-aa446c2f1c0e",
   "metadata": {},
   "outputs": [
    {
     "name": "stdout",
     "output_type": "stream",
     "text": [
      "[2, 5, 1, 8, 3, 6, 4]\n"
     ]
    }
   ],
   "source": [
    "random_numbers = [2, 5, 1, 9, 8, 3, 6, 4]\n",
    "random_numbers.remove(9)\n",
    "print(random_numbers)"
   ]
  },
  {
   "cell_type": "markdown",
   "id": "74c27b82-a653-44b2-95b5-4efd8576004e",
   "metadata": {},
   "source": [
    "4.3.5 Create a list called fruits with the following elements: \"apple\", \"banana\", \"cherry\", and \"date\". Then, use the insert() method to insert the element \"elderberry\" at the second position in the list. Print the resulting modified list."
   ]
  },
  {
   "cell_type": "code",
   "execution_count": 19,
   "id": "23f27110-4fe9-4dd9-ae01-70825eef8ad0",
   "metadata": {},
   "outputs": [
    {
     "name": "stdout",
     "output_type": "stream",
     "text": [
      "['apple', 'elderberry', 'banana', 'cherry', 'date']\n"
     ]
    }
   ],
   "source": [
    "fruits = [\"apple\", \"banana\", \"cherry\",\"date\"] \n",
    "fruits.insert(1, \"elderberry\")\n",
    "print(fruits)"
   ]
  },
  {
   "cell_type": "markdown",
   "id": "9ae0e6aa-339b-43f2-b62c-50b6061a347b",
   "metadata": {},
   "source": [
    "### 4.5 Random (10 pts)\n",
    "There is a module in python called \"random\". It allows you to generate random integers and letters. You import modules in Python using the \"import statement.\" (Note: The Anaconda distribution of Python you used to load Python comes with a number of built in packages, so if you use import, Python may respond that you have already installed that). The syntax for importing numbers is as follows:"
   ]
  },
  {
   "cell_type": "code",
   "execution_count": null,
   "id": "2d227317-b63a-408d-ac46-1261b7814c30",
   "metadata": {},
   "outputs": [],
   "source": [
    "import random\n",
    "# I am asking random to generate a random number between 1 and 100 and\n",
    "#assigning it to the variable some_number\n",
    "some_number = random.randint(1,100)\n",
    "print(some_number)"
   ]
  },
  {
   "cell_type": "markdown",
   "id": "2ab1904b-874c-44cd-b3bf-cb3ed9ef8afa",
   "metadata": {},
   "source": [
    "\n",
    "4.5.1 Write a script that generates a random number between one and ten and gives a user five tries to get the right number. Count the number of guesses. When the user does not guess it right, print an encouraging statement that they should keep trying, how many guesses they have left, and whether if their guess was too high or too low. Make sure you are tracking the number of guesses. When the user gets the number right, print \"You got it!\" and end the program"
   ]
  },
  {
   "cell_type": "code",
   "execution_count": 1,
   "id": "20a1cf98-f59d-4bb4-ba8c-3d9a6b6ec70c",
   "metadata": {},
   "outputs": [
    {
     "name": "stdin",
     "output_type": "stream",
     "text": [
      "Guess a number between 1 and 10:  5\n"
     ]
    },
    {
     "name": "stdout",
     "output_type": "stream",
     "text": [
      "Keep trying! That number was too low! You have 4 guesses left.\n"
     ]
    },
    {
     "name": "stdin",
     "output_type": "stream",
     "text": [
      "Guess a number between 1 and 10:  8\n"
     ]
    },
    {
     "name": "stdout",
     "output_type": "stream",
     "text": [
      "Keep trying! That number was too high! You have 3 guesses left.\n"
     ]
    },
    {
     "name": "stdin",
     "output_type": "stream",
     "text": [
      "Guess a number between 1 and 10:  7\n"
     ]
    },
    {
     "name": "stdout",
     "output_type": "stream",
     "text": [
      "You got it\n"
     ]
    }
   ],
   "source": [
    "import random\n",
    "random_number = random.randint(1, 10)\n",
    "guesses_left = 5\n",
    "\n",
    "while guesses_left > 0:\n",
    "    guess = int(input(\"Guess a number between 1 and 10: \"))\n",
    "\n",
    "    if guess == random_number:\n",
    "        print(\"You got it!\")\n",
    "        break\n",
    "    elif guess < random_number:\n",
    "        print(f\"Keep trying! That number was too low! You have {guesses_left-1} guesses left.\")\n",
    "    else:\n",
    "        print(f\"Keep trying! That number was too high! You have {guesses_left-1} guesses left.\")\n",
    "\n",
    "    guesses_left -= 1 #Counts down number of guesses so it will eventually stop\n",
    "\n",
    "if guesses_left == 0:\n",
    "    print(\"Sorry, you ran out of guesses. The number was\", number)"
   ]
  },
  {
   "cell_type": "markdown",
   "id": "24f65907-875f-4dc6-a976-31f730da13ae",
   "metadata": {},
   "source": [
    "\n",
    "4.5.2 Short answer: What's the most efficient way to guess a correct number given these clues?"
   ]
  },
  {
   "cell_type": "markdown",
   "id": "91b3dfd7-33de-49a1-93ff-4ab38d1bbda5",
   "metadata": {},
   "source": [
    "Use your words here: Try to guess exactly in the middle. So, start by guessing five, if it is too high guess 3. If it is too low guess 8. Go from there, but that method is guaranteed to get you the right answer within four tries. "
   ]
  },
  {
   "cell_type": "markdown",
   "id": "714b7e50-381d-4e3f-abb2-6f6563a19f2e",
   "metadata": {},
   "source": [
    "4.6 : Clean Up (10pts)\n",
    "Write a for loop that returns a list of surnames of Nobel Peace Prize Winners."
   ]
  },
  {
   "cell_type": "code",
   "execution_count": 27,
   "id": "0dde538a-2639-49d2-9ca5-054df5772d66",
   "metadata": {},
   "outputs": [
    {
     "name": "stdout",
     "output_type": "stream",
     "text": [
      "['Xiabobo', 'King', 'Sato', 'Obama', 'Sirleaf', 'Walesa', 'Robles']\n"
     ]
    }
   ],
   "source": [
    "nobel_messy = [['Xiabobo', '!', ',', ':', ',', '@@', '%','^','&', 'King','Sato', '1945'],['Nuclear', 'Chemical'], ['Obama', 'Sirleaf', 'Walesa', 'Robles']]\n",
    "# your code here: \n",
    "nobel_winners = []\n",
    "for element in nobel_messy: \n",
    "    for inner_loop in element:\n",
    "        if inner_loop.isalpha() == True:\n",
    "            nobel_winners.append(inner_loop)\n",
    "        else: \n",
    "            pass \n",
    "    del nobel_winners[3:4]\n",
    "print(nobel_winners)"
   ]
  },
  {
   "cell_type": "markdown",
   "id": "7b72f8f8-51f6-4d00-b47d-777c426301fa",
   "metadata": {},
   "source": [
    "### 4.6 Built in DATA STRUCTURES in Python (A review) (20pts)\n",
    "\n",
    "Python offers a variety of built-in data structures, each with its unique features and uses. Here's a comprehensive list of Python's primary data structures:\n",
    "\n",
    "Built-in Data Structures\n",
    "\n",
    "**List**: An **ordered, mutable** collection of items that can be of mixed types. Lists are defined with square brackets [].\n",
    "\n",
    "**Tuple**: An **ordered, immutable** collection of items that can be of mixed types. Tuples are defined with parentheses ().\n",
    "\n",
    "**Set**: An **unordered** collection of unique items. Sets are **mutable**, do not allow duplicates, and are defined with curly braces {} or the set() function for an empty set.\n",
    "\n",
    "**Dictionary (Dict)**: A collection of key-value pairs where keys are unique. Dictionaries are **mutable and ordered** by insertion order (as of Python 3.7+). They are defined with curly braces {} with key-value pairs separated by colons.\n"
   ]
  },
  {
   "cell_type": "markdown",
   "id": "98231021-1e9b-4ae7-92ff-28027f2951c9",
   "metadata": {},
   "source": [
    "4.6.1 Tuples: When Order Matters\n",
    "Tuples preserve the order of elements, just like lists. If you need to store data in a specific order and ensure that this order doesn’t change, a tuple is useful."
   ]
  },
  {
   "cell_type": "markdown",
   "id": "0abdd8f4-b640-4ba7-b307-4371f12a3208",
   "metadata": {},
   "source": [
    "Write a Python script that loops through the list of birth dates.\n",
    "\n",
    "For each birth date, print the message:\n",
    "\"Person born on Day/Month/Year\" (replace with the actual values from the tuple).\n",
    "Use a for loop to go through each tuple.\n"
   ]
  },
  {
   "cell_type": "code",
   "execution_count": 57,
   "id": "d24580a0-a15e-442e-a16d-74dbe0c63b4d",
   "metadata": {},
   "outputs": [
    {
     "name": "stdout",
     "output_type": "stream",
     "text": [
      "Alice born on 12/5/2000\n",
      "Bob born on 22/7/1995\n",
      "Li Wei born on 15/3/2010\n",
      "Aarav born on 30/1/1988\n",
      "Mei Ling born on 25/12/1999\n",
      "Priya born on 18/8/1996\n",
      "Zhang Wei born on 5/9/1992\n",
      "Ananya born on 3/11/2003\n"
     ]
    }
   ],
   "source": [
    "\n",
    "\n",
    "people = [\n",
    "    (\"Alice\", 2000, 5, 12),\n",
    "    (\"Bob\", 1995, 7, 22),\n",
    "    (\"Li Wei\", 2010, 3, 15),\n",
    "    (\"Aarav\", 1988, 1, 30),\n",
    "    (\"Mei Ling\", 1999, 12, 25),\n",
    "    (\"Priya\", 1996, 8, 18),\n",
    "    (\"Zhang Wei\", 1992, 9, 5),\n",
    "    (\"Ananya\", 2003, 11, 3)\n",
    "]\n",
    "for name, year, month, day in people:\n",
    "   print(f\"{name} born on {day}/{month}/{year}\")\n",
    "      "
   ]
  },
  {
   "cell_type": "markdown",
   "id": "d2a54d2e-4b5d-411e-aeff-e617b11712e4",
   "metadata": {},
   "source": [
    "4.6.2 Sets: Using Intersections and Unions of Sets\n",
    "\n",
    "\n",
    "Problem:\n",
    "You are working with two groups of students who attended different workshops.\n",
    "\n",
    "Group A attended a Python workshop: {\"Alice\", \"Bob\", \"Charlie\", \"David\", \"Eva\"}.\n",
    "Group B attended a Data Science workshop: {\"Charlie\", \"Eva\", \"Frank\", \"Grace\", \"Henry\"}.\n",
    "\n",
    "Hints:\n",
    "Use the intersection() method to find common students.\n",
    "Use the union() method to combine the two groups.\n",
    "Use the difference() method to find students exclusive to the Python workshop.\n",
    "\n",
    "\n",
    "Difference: Write a script that finds the students who attended the Python workshop but not the Data Science workshop."
   ]
  },
  {
   "cell_type": "code",
   "execution_count": 59,
   "id": "14312a23-8b97-4e93-80e7-a52082d2f4bd",
   "metadata": {},
   "outputs": [
    {
     "name": "stdout",
     "output_type": "stream",
     "text": [
      "{'Bob', 'David', 'Alice'}\n"
     ]
    }
   ],
   "source": [
    "group_a = {\"Alice\", \"Bob\", \"Charlie\", \"David\", \"Eva\"}\n",
    "group_b = {\"Charlie\", \"Eva\", \"Frank\", \"Grace\", \"Henry\"}\n",
    "print(group_a.difference(group_b))"
   ]
  },
  {
   "cell_type": "markdown",
   "id": "7a7df198-671d-426d-bab1-db9c73abadb2",
   "metadata": {},
   "source": [
    "Intersection: Write a Python script that finds the students who attended both workshops (i.e., students who are in both groups).\n"
   ]
  },
  {
   "cell_type": "code",
   "execution_count": 61,
   "id": "3117e3ca-0c2c-4e34-9208-48e7f18f52fa",
   "metadata": {},
   "outputs": [
    {
     "name": "stdout",
     "output_type": "stream",
     "text": [
      "{'Charlie', 'Eva'}\n"
     ]
    }
   ],
   "source": [
    "print(group_a.intersection(group_b))"
   ]
  },
  {
   "cell_type": "code",
   "execution_count": null,
   "id": "eb599b98-ef7d-4754-a314-67426b940638",
   "metadata": {},
   "outputs": [],
   "source": [
    "Union: Write a Python script that finds the total number of unique students who attended at least one of the workshops (i.e., all students from both groups)."
   ]
  },
  {
   "cell_type": "code",
   "execution_count": 63,
   "id": "8dc400c8-4ccc-4536-b5ab-ced77426fd24",
   "metadata": {},
   "outputs": [
    {
     "name": "stdout",
     "output_type": "stream",
     "text": [
      "{'Henry', 'David', 'Charlie', 'Eva', 'Grace', 'Bob', 'Alice', 'Frank'}\n"
     ]
    }
   ],
   "source": [
    "print(group_a.union(group_b))"
   ]
  },
  {
   "cell_type": "markdown",
   "id": "4361b64e-4ded-4e54-9278-0e2d9da8fc79",
   "metadata": {},
   "source": [
    "For loop and add\n",
    "You are tasked with building a set of unique even numbers from a list of random numbers using a for loop and the add() method.\n",
    "\n",
    "1. Create a list of numbers: [4, 7, 8, 10, 15, 8, 20, 22, 4, 30, 7, 35].\n",
    "\n",
    "2. Write a Python script that iterates through the list using a for loop.\n",
    "\n",
    "3. Use the add() method to add only the even numbers to a set. Remember, sets only store unique elements, so duplicates won’t be added.\n",
    "\n",
    "4. After the loop finishes, print the set of even numbers.\n",
    "\n",
    "Hints:\n",
    "Use the modulo operator (%) to check if a number is even (number % 2 == 0).\n",
    "Initialize an empty set (even_numbers = set()) and use the add() method inside the loop to add even numbers to the set.\n"
   ]
  },
  {
   "cell_type": "code",
   "execution_count": 75,
   "id": "fa608245-1cc8-4ed5-8a2d-550ec88f8ada",
   "metadata": {},
   "outputs": [
    {
     "name": "stdout",
     "output_type": "stream",
     "text": [
      "{4, 8, 10, 20, 22, 24, 30}\n"
     ]
    }
   ],
   "source": [
    "numbers = [4, 7, 8, 10, 15, 8, 20, 22, 4, 30, 7, 24]\n",
    "even_numbers = set()\n",
    "for element in numbers:\n",
    "    if element % 2 == 0:\n",
    "        even_numbers.add(element)\n",
    "    else:\n",
    "        pass \n",
    "print(even_numbers)"
   ]
  },
  {
   "cell_type": "markdown",
   "id": "6bf8e3bf-9442-4679-8a8a-96f82d792d38",
   "metadata": {},
   "source": [
    "##### 4.7 Pig Latin Translator ¶(15pts)\n",
    "\n",
    "\"Pig Latin\" is a pseudo language.  Several cultures use it, or variations of it. Germans call it Kedelkloppersprook; in Swedish, it’s Fikonspråket, alfabeto farfallino in Italian, loucherbem in French, Jeringonza in Spanish. \n",
    "\n",
    "In English you remove the first letter of the word, and then move that letter to the end of the word and add 'ay'. So \"Car\" would be \"Arcay\" ... \"Professor\" would be \"rofessorpay\".\n",
    "\n",
    "Write code that translates a name into (simplified) Pig Latin.  Have your script ask the user for his or her name, which can comprise first, middle, and/or last parts. \n",
    "\n",
    "Make sure that only the first letter of each word in your output is capitalized. You can use the split() method on the string to create a list of the name parts. Be sure that your script can handle one, two or three name parts separated by spaces. This will likely involve a loop.\n",
    "\n",
    "Your script should re-create the following example exactly:\n",
    "\n",
    "Enter your name: Casey King\n",
    "\n",
    "Aseycay Ingkay"
   ]
  },
  {
   "cell_type": "code",
   "execution_count": 29,
   "id": "c09f0e03-985e-4142-a4d0-7cb34c42b815",
   "metadata": {},
   "outputs": [
    {
     "name": "stdin",
     "output_type": "stream",
     "text": [
      "Enter your name Dana Lynn Councilman\n"
     ]
    },
    {
     "name": "stdout",
     "output_type": "stream",
     "text": [
      "Your name in Pig Latin is: Anaday Ynnlay Ouncilmancay\n"
     ]
    }
   ],
   "source": [
    "def pig_latin(name):\n",
    "    name_split = name.split()\n",
    "    translated_name = []\n",
    "\n",
    "    for part in name_split:\n",
    "        if part[0].lower() in 'aeiou':\n",
    "            # If the name part starts with a vowel\n",
    "            pig_part = part + 'yay'\n",
    "        else:\n",
    "            # If the name part starts with a consonant\n",
    "            pig_part = part[1:] + part[0] + 'ay'\n",
    "        # Capitalize only the first letter and make the rest lowercase\n",
    "        translated_name.append(pig_part.capitalize())\n",
    "\n",
    "    return ' '.join(translated_name)\n",
    "\n",
    "# Ask the user for their name\n",
    "name_input = input(\"Enter your name\")\n",
    "\n",
    "# Translate the name into Pig Latin\n",
    "translated_name = pig_latin(name_input)\n",
    "\n",
    "# Display the Pig Latin version\n",
    "print(\"Your name in Pig Latin is:\", translated_name)\n"
   ]
  },
  {
   "cell_type": "markdown",
   "id": "1f98830b-ee61-416c-ba2d-ac6769a308ca",
   "metadata": {},
   "source": [
    "### 4.8 DDOS Attack (15pts)"
   ]
  },
  {
   "cell_type": "markdown",
   "id": "997e861e-d8c4-4678-8fb4-5c1f1192d39b",
   "metadata": {},
   "source": [
    "A distributed denial-of-service (DDoS) attack is a malicious attempt to disrupt normal traffic of a targeted server, service or network by overwhelming the target or its surrounding infrastructure with a flood of data or inputs."
   ]
  },
  {
   "cell_type": "markdown",
   "id": "481d7954-7def-45b3-b5e6-b77b724384df",
   "metadata": {},
   "source": [
    "4.8.1(5pts)\n",
    "Write a simple example of a DoS attack on a user input statement using a for loop that executes for 100 iterations."
   ]
  },
  {
   "cell_type": "code",
   "execution_count": null,
   "id": "0fd044f0-7745-4db7-bbba-e6d4ae552a44",
   "metadata": {},
   "outputs": [
    {
     "name": "stdin",
     "output_type": "stream",
     "text": [
      "Input Your Password Dana\n",
      "Input Your Password alie\n",
      "Input Your Password alien\n",
      "Input Your Password allies\n",
      "Input Your Password fdsat\n",
      "Input Your Password gjdkla;sdf\n"
     ]
    }
   ],
   "source": [
    "import random\n",
    "import string\n",
    "#generated random letter\n",
    "string.ascii_letters = \"abcdefghijklmnopqrstuvwxyzABCDEFGHIJKLMNOPQRSTUVWXYZ\"\n",
    "random_character = random.choice(string.ascii_letters)\n",
    "guesses_left = 100 #100 times\n",
    "\n",
    "\n",
    "for i in range(100):\n",
    "    guess = (input(\"Input Your Password\"))\n",
    "    #inputs password\n",
    "    if guess == random_character:\n",
    "        print(\"That is the Password\")\n",
    "        break\n",
    "      #trying to see if it's equal to random letters\n",
    "else:\n",
    "        print(\"Input the Password Again.\")\n",
    "\n",
    "guesses_left -= 1 #Counts down number of guesses so it will eventually stop\n",
    "\n",
    "if guesses_left == 0:\n",
    "    print(\"No More Guesses\")"
   ]
  },
  {
   "cell_type": "markdown",
   "id": "c5d72ce7-1284-4c28-8603-c9d183b338bf",
   "metadata": {},
   "source": [
    "4.8.2(5pts)\n",
    "Write a simple example of a DoS attack on a user input statement using a while loop that executes for 100 iterations."
   ]
  },
  {
   "cell_type": "code",
   "execution_count": null,
   "id": "1bae1f3a-c16e-43c7-abef-4556b63490f3",
   "metadata": {},
   "outputs": [
    {
     "name": "stdin",
     "output_type": "stream",
     "text": [
      "Input Your Password fdsaksdf\n"
     ]
    },
    {
     "name": "stdout",
     "output_type": "stream",
     "text": [
      "Input the Password Again.\n"
     ]
    },
    {
     "name": "stdin",
     "output_type": "stream",
     "text": [
      "Input Your Password sdfasd\n"
     ]
    },
    {
     "name": "stdout",
     "output_type": "stream",
     "text": [
      "Input the Password Again.\n"
     ]
    },
    {
     "name": "stdin",
     "output_type": "stream",
     "text": [
      "Input Your Password dsajsklsdjf\n"
     ]
    },
    {
     "name": "stdout",
     "output_type": "stream",
     "text": [
      "Input the Password Again.\n"
     ]
    }
   ],
   "source": [
    "import random\n",
    "import string\n",
    "string.ascii_letters = \"abcdefghijklmnopqrstuvwxyzABCDEFGHIJKLMNOPQRSTUVWXYZ\"\n",
    "random_character = random.choice(string.ascii_letters)\n",
    "guesses_left = 100\n",
    "#similar idea, generates random letter inputs password 100 times to generate a match \n",
    "\n",
    "while guesses_left > 0:\n",
    "    guess = (input(\"Input Your Password\"))\n",
    "#while number of guesses above 100\n",
    "    if guess == random_character:\n",
    "        print(\"That is the Password\")\n",
    "        break\n",
    "        \n",
    "    else:\n",
    "        print(\"Input the Password Again.\")\n",
    "\n",
    "    guesses_left -= 1 #Counts down number of guesses so it will eventually stop\n",
    "\n",
    "if guesses_left == 0:\n",
    "    print(\"No More Guesses\")"
   ]
  },
  {
   "cell_type": "code",
   "execution_count": null,
   "id": "a1794297-eb0b-47af-92c1-16ce69a1072d",
   "metadata": {},
   "outputs": [],
   "source": []
  }
 ],
 "metadata": {
  "kernelspec": {
   "display_name": "Python 3 (ipykernel)",
   "language": "python",
   "name": "python3"
  },
  "language_info": {
   "codemirror_mode": {
    "name": "ipython",
    "version": 3
   },
   "file_extension": ".py",
   "mimetype": "text/x-python",
   "name": "python",
   "nbconvert_exporter": "python",
   "pygments_lexer": "ipython3",
   "version": "3.12.4"
  }
 },
 "nbformat": 4,
 "nbformat_minor": 5
}
