{
 "cells": [
  {
   "cell_type": "markdown",
   "id": "5546435c-c02f-4da1-b7be-2db0324ffb54",
   "metadata": {},
   "source": [
    "# HW 4:"
   ]
  },
  {
   "cell_type": "markdown",
   "id": "2399aab0-399d-4516-b379-d1acbc5b5a03",
   "metadata": {},
   "source": [
    "## Some Practice with Functions"
   ]
  },
  {
   "cell_type": "markdown",
   "id": "4dd98f0c-26ce-4211-8f70-691573a61365",
   "metadata": {},
   "source": [
    "### Using print() rather than returning a value"
   ]
  },
  {
   "cell_type": "markdown",
   "id": "ba3b6ab3-c6e3-4db1-ae08-6a55fa24fad8",
   "metadata": {},
   "source": [
    "1. (10pts) Write a function that checks the potential risk of conflict between two countries based on their military spending and diplomatic relations. The function should print a warning if both countries have high military spending (greater than 100 billion dollars) and their diplomatic relations are poor. Otherwise, it should print that relations are stable.\n",
    "\n",
    "Requirements:\n",
    "\n",
    "The function should print (not return) the result.\n",
    "\n",
    "The inputs will be:\n",
    "\n",
    "Country 1 name (str)\n",
    "\n",
    "Country 2 name (str)\n",
    "\n",
    "Military spending of Country 1 (int, in billion dollars)\n",
    "\n",
    "Military spending of Country 2 (int, in billion dollars)\n",
    "\n",
    "Diplomatic relations (str), either \"good\", \"neutral\", or \"poor\"\n",
    "\n",
    "**Task**: Define a function print_conflict_warning(country1, country2, military_spending1, military_spending2, diplomatic_relations) that prints:\n",
    "\n",
    "\"Warning: High risk of conflict between <country1> and <country2>.\" if military spending is high for both and diplomatic relations are poor.\n",
    "\"The relations between <country1> and <country2> are stable.\" otherwise.\n"
   ]
  },
  {
   "cell_type": "code",
   "execution_count": 1,
   "id": "1d977eae-3d96-48a7-873c-64322a1b5cee",
   "metadata": {},
   "outputs": [
    {
     "name": "stdin",
     "output_type": "stream",
     "text": [
      "country 1 name USA\n",
      "country 2 name China\n",
      "military spending of country 1 in billions of dollars 820\n",
      "military spending of country 2 in billions of dollars 530\n",
      "diplomatic relations poor\n"
     ]
    },
    {
     "name": "stdout",
     "output_type": "stream",
     "text": [
      "Warning: high risk of conflict between USA and China\n"
     ]
    }
   ],
   "source": [
    "country1 = input(\"country 1 name\")\n",
    "country2 = input(\"country 2 name\") \n",
    "military_spending1 = int(input(\"military spending of country 1 in billions of dollars\"))\n",
    "military_spending2 = int(input(\"military spending of country 2 in billions of dollars\")) \n",
    "diplomatic_relations = input(\"diplomatic relations\")  \n",
    "#All of the above are vaiables\n",
    "def print_conflict_warning(country1, country2, military_spending1, military_spending2,diplomatic_relations):\n",
    "        if diplomatic_relations == \"poor\" and military_spending1>100 and military_spending2>100:\n",
    "            print(f\"Warning: high risk of conflict between {country1} and {country2}\")\n",
    "        else:\n",
    "            print(f\"The relations between {country1} and {country2} are stable\")\n",
    "    #A function that will determine if the risk of conflict is high or not depending on military spending and diplomatic relations\n",
    "print_conflict_warning(country1, country2, military_spending1, military_spending2, diplomatic_relations)\n",
    "\n"
   ]
  },
  {
   "cell_type": "markdown",
   "id": "86a97f80-2779-4c9e-bf77-ebe768ae8c32",
   "metadata": {},
   "source": [
    "## For the rest of these, you will return a value, rather than print()"
   ]
  },
  {
   "cell_type": "markdown",
   "id": "517bdb90-fd7d-4302-a6d6-80c66b0748d0",
   "metadata": {},
   "source": [
    "2.(5pts)Calculate Trade Balance\n",
    "A country's trade balance is the difference between its exports and imports. Write a function that calculates and prints whether the country has a trade surplus, deficit, or balanced trade. Use the following data:\n",
    "\n",
    "Exports: 500 million dollars\n",
    "Imports: 600 million dollars\n",
    "\n",
    "Task: Define a function trade_balance(exports, imports) and use it to determine the trade balance."
   ]
  },
  {
   "cell_type": "code",
   "execution_count": 3,
   "id": "e24e260c-3614-4f8f-9cf7-c4eb3164ddfa",
   "metadata": {},
   "outputs": [
    {
     "name": "stdin",
     "output_type": "stream",
     "text": [
      "exports 72\n",
      "imports 68\n"
     ]
    },
    {
     "name": "stdout",
     "output_type": "stream",
     "text": [
      "you have a trade surplus of\n"
     ]
    },
    {
     "data": {
      "text/plain": [
       "4"
      ]
     },
     "execution_count": 3,
     "metadata": {},
     "output_type": "execute_result"
    }
   ],
   "source": [
    "exports = int(input(\"exports\"))\n",
    "imports = int(input(\"imports\")) \n",
    "def trade_balance(exports,imports):\n",
    "    if exports-imports>0: \n",
    "         print(\"you have a trade surplus of\")\n",
    "    elif exports - imports<0: \n",
    "         print(\"you have a trade deficit of\")\n",
    "    else:\n",
    "        print(\"you have balanced trade\")  \n",
    "\n",
    "    return (exports-imports)\n",
    "   #This loop determines if a country has a trade surplus or deficit or a neutral trade balance \n",
    "              \n",
    "trade_balance(exports,imports)"
   ]
  },
  {
   "cell_type": "markdown",
   "id": "b8e04211-db56-4ae8-bdad-17cd74f99185",
   "metadata": {},
   "source": [
    "3.(5pts) Compare Country Populations\n",
    "\n",
    "Write a function that compares the populations of two countries and prints which country has a larger population, or if they are equal. Use the following population data:\n",
    "\n",
    "India: 1.4 billion\n",
    "USA: 331 million\n",
    "\n",
    "Task: Define a function compare_populations(country1, pop1, country2, pop2) and use it to compare India and the USA."
   ]
  },
  {
   "cell_type": "code",
   "execution_count": 7,
   "id": "235fd896-3a8f-4607-a8c0-c952ba30ced2",
   "metadata": {},
   "outputs": [
    {
     "name": "stdin",
     "output_type": "stream",
     "text": [
      "enter country1 India\n",
      "enter country2 USA\n",
      "enter the population of country1 331\n",
      "enter the population of country2 1400\n"
     ]
    },
    {
     "data": {
      "text/plain": [
       "'USA is bigger than India'"
      ]
     },
     "execution_count": 7,
     "metadata": {},
     "output_type": "execute_result"
    }
   ],
   "source": [
    "country1 = input(\"enter country1\")\n",
    "country2 = input(\"enter country2\")\n",
    "pop1 = int(input(\"enter the population of country1\"))\n",
    "pop2 = int(input(\"enter the population of country2\")) \n",
    "#variables\n",
    "def compare_population(country1,pop1,country2,pop2):\n",
    "    if pop1>pop2: \n",
    "         return f'{country1} is bigger than {country2}'\n",
    "    elif pop2>pop1: \n",
    "         return f'{country2} is bigger than {country1}'\n",
    "    else:\n",
    "        return (\"the two countries are equal\")  \n",
    "#loop that compares the populations of two countries \n",
    "compare_population(country1,pop1,country2,pop2)\n"
   ]
  },
  {
   "cell_type": "markdown",
   "id": "6c0eb686-eda4-4811-9c2c-3c9edbbae505",
   "metadata": {},
   "source": [
    "4.(5pts) Count International Organization Memberships\n",
    "Write a function that counts how many international organizations a country is a member of. Use the following data for two countries:\n",
    "m\n",
    "USA memberships: [\"UN\", \"NATO\", \"WTO\"]\n",
    "France memberships: [\"UN\", \"EU\", \"WTO\"]\n",
    "\n",
    "Task: Define a function count_memberships(country, organizations) that returns the number of memberships for a country."
   ]
  },
  {
   "cell_type": "code",
   "execution_count": 13,
   "id": "caa53d66-79de-4450-8710-04efd0fb87da",
   "metadata": {},
   "outputs": [
    {
     "name": "stdin",
     "output_type": "stream",
     "text": [
      "country France\n"
     ]
    },
    {
     "data": {
      "text/plain": [
       "'France is part of 3 organization'"
      ]
     },
     "execution_count": 13,
     "metadata": {},
     "output_type": "execute_result"
    }
   ],
   "source": [
    " country= input(\"country\")\n",
    "organization =  {\"USA\": [\"UN\", \"NATO\", \"WTO\"],\n",
    "    \"France\": [\"UN\", \"EU\", \"WTO\"]}\n",
    "#This is a dictionary with the country being a key and the values being the organizations of which they are a members\n",
    "def count_membership(country,organization):\n",
    "    if country in organization: \n",
    "        return f'{country} is part of {len(organization[country])} organization'\n",
    "    else: \n",
    "        pass \n",
    "    #Loop counts the number of organizations a country is part of\n",
    "count_membership(country,organization)\n"
   ]
  },
  {
   "cell_type": "markdown",
   "id": "9730da75-756b-4b0f-97b3-49db7b17055c",
   "metadata": {},
   "source": [
    "5.(5pts) Diplomatic Relations\n",
    "Diplomatic relations between two countries can be predicted based on trade volume and the number of diplomatic visits. Write a function that takes trade volume (in billion dollars) and the number of diplomatic visits and prints a prediction. Use the following rule:\n",
    "\n",
    "If trade volume > 5000 and visits > 10, predict strong relations.\n",
    "Otherwise, predict moderate or weak relations.\n",
    "\n",
    "Task: Define a function predict_relations(trade_volume, diplomatic_visits) and use it to make a prediction for trade volume of 6000 billion dollars and 12 visits."
   ]
  },
  {
   "cell_type": "code",
   "execution_count": 15,
   "id": "de1ef136-69e5-45aa-b0fc-868c786c1d86",
   "metadata": {},
   "outputs": [
    {
     "name": "stdin",
     "output_type": "stream",
     "text": [
      "input country 1 USA\n",
      "input country 2 Canada\n",
      "trade volume 45000\n",
      "number of diplomatic visits 13\n"
     ]
    },
    {
     "data": {
      "text/plain": [
       "'we predict strong relations between USA and Canada'"
      ]
     },
     "execution_count": 15,
     "metadata": {},
     "output_type": "execute_result"
    }
   ],
   "source": [
    "country1 = input(\"input country 1\")\n",
    "country2 = input(\"input country 2\") \n",
    "trade_volume = int(input(\"trade volume\"))\n",
    "diplomatic_visits=int(input(\"number of diplomatic visits\"))\n",
    "#variables \n",
    "def predict_relations(trade_volume, diplomatic_visits):\n",
    "    if trade_volume > 5000 and diplomatic_visits > 10:\n",
    "        return (f\"we predict strong relations between {country1} and {country2}\")\n",
    "    else:\n",
    "        return (f\"we predict moderate or weak relations between {country1} and {country2}\")\n",
    "    #Loop predicts the relations between two countries based on trade volume and number of values \n",
    "predict_relations(trade_volume, diplomatic_visits)"
   ]
  },
  {
   "cell_type": "markdown",
   "id": "6f7dbe0a-5df6-43e4-bf5d-a2572282462e",
   "metadata": {},
   "source": [
    "6.(5pts)Summarize Human Development Index (HDI)\n",
    "Write a function that categorizes a country’s Human Development Index (HDI) score into \"very high\", \"high\", \"medium\", or \"low\" based on the following ranges:\n",
    "\n",
    "Very high: HDI ≥ 0.8\n",
    "High: 0.7 ≤ HDI < 0.8\n",
    "Medium: 0.55 ≤ HDI < 0.7\n",
    "Low: HDI < 0.55\n",
    "Use the following data:\n",
    "\n",
    "Norway HDI: 0.953\n",
    "Task: Define a function hdi_summary(country, hdi) that prints the category for a given country and HDI score.\n"
   ]
  },
  {
   "cell_type": "code",
   "execution_count": 17,
   "id": "5ce12094-c467-4233-8a20-9692f68c74c3",
   "metadata": {},
   "outputs": [
    {
     "name": "stdin",
     "output_type": "stream",
     "text": [
      "enter country here Norway\n",
      "enter HDI here .953\n"
     ]
    },
    {
     "data": {
      "text/plain": [
       "'Very High'"
      ]
     },
     "execution_count": 17,
     "metadata": {},
     "output_type": "execute_result"
    }
   ],
   "source": [
    "country = input(\"enter country here\") \n",
    "hdi = float(input(\"enter HDI here\"))\n",
    "def hdi_summary(country,hdi):\n",
    "    if hdi >= .8:\n",
    "        return \"Very High\"\n",
    "    elif .7 <= hdi  and hdi < .8:\n",
    "        return \"High\"\n",
    "    elif .55 <= hdi and hdi < .7:\n",
    "        return \"Medium\"\n",
    "    else:\n",
    "        return \"Low\"\n",
    "    #loop categories HDIs into very high, high, medium and low then returns the category\n",
    "hdi_summary(country,hdi)\n",
    "\n",
    "    "
   ]
  },
  {
   "cell_type": "markdown",
   "id": "d26d6e73-c330-4953-97b5-f9d2f0ab358a",
   "metadata": {},
   "source": [
    "7.(5pts) Find Largest Economy\n",
    "Given the GDPs of three countries, write a function that determines which country has the largest economy. Use the following GDP data (in billion dollars):\n",
    "\n",
    "USA: 21,000\n",
    "China: 14,000\n",
    "\n",
    "Germany: 4,200\n",
    "Task: Define a function largest_economy(gdp_data) that takes a dictionary with country names as keys and GDP as values, then prints the largest economy.\n"
   ]
  },
  {
   "cell_type": "code",
   "execution_count": 19,
   "id": "9977c471-f382-419d-a0d8-99e1d99af08d",
   "metadata": {},
   "outputs": [
    {
     "data": {
      "text/plain": [
       "('USA', 21000)"
      ]
     },
     "execution_count": 19,
     "metadata": {},
     "output_type": "execute_result"
    }
   ],
   "source": [
    "gdp_data = {\"USA\": 21000, \"China\": 14000, \"Germany\": 4200}\n",
    "def largest_economy(gdp_data): \n",
    "    for key, value in gdp_data.items():\n",
    "        return(key, value)\n",
    "        #comparing the GDP of three countries\n",
    "largest_economy(gdp_data)"
   ]
  },
  {
   "cell_type": "markdown",
   "id": "131c325c-b5c2-49c8-bc90-afdd8ec49b80",
   "metadata": {},
   "source": [
    "8.(5pts) Sanction Impact on Economy\n",
    "A country’s economy shrinks after sanctions are imposed. Write a function to calculate the percentage reduction in GDP. Use the following data:\n",
    "\n",
    "Original GDP: 1000 billion dollars\n",
    "GDP after sanctions: 850 billion dollars\n",
    "\n",
    "Task: Define a function sanction_impact(original_gdp, post_sanction_gdp) and use it to calculate the impact of sanctions.\n"
   ]
  },
  {
   "cell_type": "code",
   "execution_count": 21,
   "id": "d8c67b65-5adf-4b3f-af03-dd0e89d95507",
   "metadata": {},
   "outputs": [
    {
     "name": "stdin",
     "output_type": "stream",
     "text": [
      "Original GDP in billions of dollars 1000\n",
      "Post-Sanction GDP in billions of dollars 850\n"
     ]
    },
    {
     "data": {
      "text/plain": [
       "'the percent decline is -15.0'"
      ]
     },
     "execution_count": 21,
     "metadata": {},
     "output_type": "execute_result"
    }
   ],
   "source": [
    "original_gdp = int(input(\"Original GDP in billions of dollars\"))\n",
    "post_sanction_gdp = int(input(\"Post-Sanction GDP in billions of dollars\"))\n",
    "def sanction_impact(original_gdp, post_sanction_gdp):\n",
    "    return f'the percent decline is {((post_sanction_gdp - original_gdp)/original_gdp * 100)}'  #This calculates and returns the percent change in GDP \n",
    "sanction_impact(original_gdp, post_sanction_gdp)"
   ]
  },
  {
   "cell_type": "markdown",
   "id": "b8b02e02-5965-4332-8fa2-3961793e7a7e",
   "metadata": {},
   "source": [
    "### Passing a function to another function. We can pass the return value of a function to another function. Check out the sample below"
   ]
  },
  {
   "cell_type": "markdown",
   "id": "9aa91de0-8cf6-4084-937d-d0b0200b065b",
   "metadata": {},
   "source": [
    "Calculate Diplomatic Influence: return a value, and print from a function \n",
    "\n",
    "A country’s diplomatic influence is determined by its economic power and military strength. Write two functions:\n",
    "\n",
    "calculate_influence(economy_size, military_spending): This function calculates a country’s influence score by adding its economy size (GDP in billions) and military power (in billions).\n",
    "\n",
    "compare_influence(influence1, influence2): This function compares the influence of two countries and prints which country has more influence or if they are equal.\n",
    "\n",
    "You will pass the influence score from the first function to the second function for comparison.\n",
    "\n",
    "Define calculate_influence(economy_size, military_spending) that returns the influence score (sum of economy size and military power).\n",
    "Define compare_influence(influence1, influence2) that compares two countries' influence and prints the result.\n"
   ]
  },
  {
   "cell_type": "code",
   "execution_count": 13,
   "id": "d46522b0-14b5-4d59-9fb3-4dc0ae4c5831",
   "metadata": {},
   "outputs": [
    {
     "name": "stdout",
     "output_type": "stream",
     "text": [
      "Country 1 has more diplomatic influence.\n"
     ]
    }
   ],
   "source": [
    "#Sample code here:\n",
    "#US: 916 billion on military, with a total economy size of 28.78 trillion\n",
    "#Germany: 66.8 billion on military, economy size of 4.08 trillion\n",
    "\n",
    "def calculate_influence(economy_size, military_power):\n",
    "    \"\"\"\n",
    "    Calculates the diplomatic influence of a country based on its economy size and military power.\n",
    "\n",
    "    Parameters:\n",
    "    economy_size (float): The size of the economy in billion dollars.\n",
    "    military_power (float): The military power in billion dollars.\n",
    "\n",
    "    Returns:\n",
    "    float: The total influence score, which is the sum of economy size and military power.\n",
    "    \"\"\"\n",
    "    return economy_size + military_power\n",
    "\n",
    "def compare_influence(economy_size1, military_power1, economy_size2, military_power2):\n",
    "    \"\"\"\n",
    "    Compares the diplomatic influence of two countries based on their economy size and military power.\n",
    "\n",
    "    Parameters:\n",
    "    economy_size1 (float): The size of the first country's economy in billion dollars.\n",
    "    military_power1 (float): The military power of the first country in billion dollars.\n",
    "    economy_size2 (float): The size of the second country's economy in billion dollars.\n",
    "    military_power2 (float): The military power of the second country in billion dollars.\n",
    "\n",
    "    Prints:\n",
    "    str: A message indicating which country has more diplomatic influence, or if both are equal.\n",
    "    \"\"\"\n",
    "    #here we are calling the function within the new function and saving the output to variables\n",
    "    influence1 = calculate_influence(economy_size1, military_power1)\n",
    "    influence2 = calculate_influence(economy_size2, military_power2)\n",
    "    \n",
    "    if influence1 > influence2:\n",
    "        print(\"Country 1 has more diplomatic influence.\")\n",
    "    elif influence2 > influence1:\n",
    "        print(\"Country 2 has more diplomatic influence.\")\n",
    "    else:\n",
    "        print(\"Both countries have equal diplomatic influence.\")\n",
    "\n",
    "# Example usage\n",
    "compare_influence(916, 28.78, 66.8, 4.08)\n",
    "\n",
    "\n"
   ]
  },
  {
   "cell_type": "markdown",
   "id": "85e59e80-c705-4e59-9bbc-8cbccd78a4f9",
   "metadata": {},
   "source": [
    "## Some for loops and comprehensions"
   ]
  },
  {
   "cell_type": "markdown",
   "id": "88034e0d-bd12-4bf7-adcd-51913d8e750b",
   "metadata": {},
   "source": [
    "Here is a list of tuples with a country, and it's annual growth in GDP:"
   ]
  },
  {
   "cell_type": "code",
   "execution_count": 3,
   "id": "fc412ac7-fc4b-4ab5-8428-eb95123aac49",
   "metadata": {},
   "outputs": [],
   "source": [
    "country_growth_data_list = [(\"CountryA\", 3.2), (\"CountryB\", 6.5), (\"CountryC\", 2.8), (\"CountryD\", 5.4)]\n"
   ]
  },
  {
   "cell_type": "code",
   "execution_count": 5,
   "id": "232f1d28-b587-4a6e-925b-365ef5adaeb4",
   "metadata": {},
   "outputs": [
    {
     "name": "stdout",
     "output_type": "stream",
     "text": [
      "[('CountryA', 'Moderate'), ('CountryB', 'High'), ('CountryC', 'Moderate'), ('CountryD', 'High')]\n"
     ]
    }
   ],
   "source": [
    "# Initialize an empty list to store the results\n",
    "growth_category_list = []\n",
    "\n",
    "# Iterate over each item in the country_growth_data_list\n",
    "for country, growth_rate in country_growth_data_list:\n",
    "    if growth_rate > 5:\n",
    "        growth_category_list.append((country, \"High\"))\n",
    "    else:\n",
    "        growth_category_list.append((country, \"Moderate\"))\n",
    "\n",
    "# Print the result\n",
    "print(growth_category_list)"
   ]
  },
  {
   "cell_type": "code",
   "execution_count": null,
   "id": "c60c415c-3c17-47f9-a7d2-ec42d59fb9dd",
   "metadata": {},
   "outputs": [],
   "source": []
  },
  {
   "cell_type": "markdown",
   "id": "183c0605-cbff-4eca-a5ca-7b981be55ad5",
   "metadata": {},
   "source": [
    "\n",
    "1. Create An empty list, growth_category_list, is initialized to store the results.\n",
    "2. For each country in the list, a tuple of the country name and its corresponding category is appended to growth_category_list.\n",
    "3. The result is a list of tuples where each tuple contains the country name and its growth category."
   ]
  },
  {
   "cell_type": "markdown",
   "id": "8f645605-5e10-4abf-93f6-b1aa83b55a8a",
   "metadata": {},
   "source": [
    "9.(5pts) Rewrite the previous as a list comprehension and print the results"
   ]
  },
  {
   "cell_type": "code",
   "execution_count": 7,
   "id": "d7899ebf-2149-4c60-b368-1e2344381cd6",
   "metadata": {},
   "outputs": [
    {
     "name": "stdout",
     "output_type": "stream",
     "text": [
      "[('CountryA', 'Moderate'), ('CountryB', 'High'), ('CountryC', 'Moderate'), ('CountryD', 'High')]\n"
     ]
    }
   ],
   "source": [
    "growth_category_list = [(country, \"High\") if growth_rate > 5 else (country,\"Moderate\") for country, growth_rate in country_growth_data_list]\n",
    "print(growth_category_list)"
   ]
  },
  {
   "cell_type": "markdown",
   "id": "906ade3b-1cf8-48b9-a3a5-29a7c2770f4c",
   "metadata": {},
   "source": [
    "10.(5pts) Here is the same data as a dictionary"
   ]
  },
  {
   "cell_type": "code",
   "execution_count": 9,
   "id": "ec82039d-9b55-4b58-83a2-79ab6ceb2f97",
   "metadata": {},
   "outputs": [],
   "source": [
    "country_growth_data = {\"CountryA\": 3.2, \"CountryB\": 6.5, \"CountryC\": 2.8, \"CountryD\": 5.4}"
   ]
  },
  {
   "cell_type": "code",
   "execution_count": null,
   "id": "915f8d44-208f-4df8-8942-0fc4582b8624",
   "metadata": {},
   "outputs": [],
   "source": []
  },
  {
   "cell_type": "markdown",
   "id": "252700b2-cba9-49ee-a42e-20fec70d1585",
   "metadata": {},
   "source": [
    "11.(5pts) Write a for loop that iterates through the dictionary and stores the results in a growth_category dictionary with key :value pairs"
   ]
  },
  {
   "cell_type": "code",
   "execution_count": 11,
   "id": "ca2d3ad2-4d00-4965-b543-870261622f53",
   "metadata": {},
   "outputs": [
    {
     "name": "stdout",
     "output_type": "stream",
     "text": [
      "{'CountryA': 'Moderate', 'CountryB': 'High', 'CountryC': 'Moderate', 'CountryD': 'High'}\n"
     ]
    }
   ],
   "source": [
    "growth_category = {}\n",
    "for key, value in country_growth_data.items():\n",
    "   if value > 5:\n",
    "        growth_category[key] = \"High\"\n",
    "   else:\n",
    "        growth_category[key] = \"Moderate\"\n",
    "\n",
    "# Print the result\n",
    "print(growth_category)"
   ]
  },
  {
   "cell_type": "markdown",
   "id": "c768ea1f-47f8-47bc-b383-0e383a500377",
   "metadata": {},
   "source": [
    "12. (5pts)Now try it as a dictionary comprehnsion! \n"
   ]
  },
  {
   "cell_type": "code",
   "execution_count": 42,
   "id": "94b224cf-d859-4fea-9926-2a24a451ee20",
   "metadata": {},
   "outputs": [
    {
     "name": "stdout",
     "output_type": "stream",
     "text": [
      "{'CountryA': 'Moderate', 'CountryB': 'High', 'CountryC': 'Moderate', 'CountryD': 'High'}\n"
     ]
    }
   ],
   "source": [
    "growth_category = {key: \"High\" if value > 5 else \"Moderate\" for key, value in country_growth_data.items()} \n",
    "print(growth_category)"
   ]
  },
  {
   "cell_type": "markdown",
   "id": "fa0b626d-9dab-4477-9f0d-e6f294a96994",
   "metadata": {},
   "source": [
    "13.(5pts) How about a set comprehension for Alex! "
   ]
  },
  {
   "cell_type": "code",
   "execution_count": 62,
   "id": "1fd14eb7-b58d-4ac4-8521-a09549d57cb9",
   "metadata": {},
   "outputs": [
    {
     "name": "stdout",
     "output_type": "stream",
     "text": [
      "{'Brazil', 'Germany'}\n"
     ]
    }
   ],
   "source": [
    "\n",
    "# Define a set of countries\n",
    "countries_set = {\"USA\", \"India\", \"Germany\", \"Brazil\", \"China\"}\n",
    "\n",
    "# Initialize an empty set to store countries with names longer than 5 characters\n",
    "long_name_countries = set()\n",
    "\n",
    "# For loop to iterate over the set and add countries with names longer than 5 characters\n",
    "for country in countries_set:\n",
    "    if len(country) > 5:\n",
    "        long_name_countries.add(country)\n",
    "\n",
    "# Print the result\n",
    "print(long_name_countries)\n"
   ]
  },
  {
   "cell_type": "code",
   "execution_count": 68,
   "id": "a8eb6388-6a28-4150-ba82-13eb1babf155",
   "metadata": {},
   "outputs": [
    {
     "name": "stdout",
     "output_type": "stream",
     "text": [
      "{'Brazil', 'Germany'}\n"
     ]
    }
   ],
   "source": [
    "# Now as a set comprehension! \n",
    "countries_set = {\"USA\", \"India\", \"Germany\", \"Brazil\", \"China\"}\n",
    "long_name_countries= {country for country in countries_set if len(country) > 5}\n",
    "print(long_name_countries)"
   ]
  },
  {
   "cell_type": "markdown",
   "id": "d7e24e7e-8bf2-444e-a136-8f434f4a21be",
   "metadata": {},
   "source": [
    "## Translating Sentences:\n",
    "14.(5pts) Write a function that translates sentences. The function takes two arguements, the sentence to be translated and the targeted language and returns the translated sentence. Use the following sentence and translate it to the language of your choice:\n",
    "    \n",
    "\"Make a career of humanity. Commit yourself to the noble struggle for equal rights. You will make a better person of yourself, a greater nation of your country, and a finer world to live in.\"\n"
   ]
  },
  {
   "cell_type": "code",
   "execution_count": 15,
   "id": "8dd12622-57a0-4147-839b-7947210e025f",
   "metadata": {},
   "outputs": [
    {
     "name": "stdin",
     "output_type": "stream",
     "text": [
      "Please give me a sentence \"Make a career of humanity. Commit yourself to the noble struggle for equal rights. You will make a better person of yourself, a greater nation of your country, and a finer world to live in.\"\n",
      "Google Translate language Spanish\n"
     ]
    },
    {
     "name": "stdout",
     "output_type": "stream",
     "text": [
      "\"Haga una carrera de la humanidad. Comprométate con la noble lucha por la igualdad de derechos. Harás una mejor persona de ti mismo, una nación más grande de tu país y un mundo más fino para vivir\".\n"
     ]
    }
   ],
   "source": [
    "sentence = input(\"Please give me a sentence\")\n",
    "language = input(\"Google Translate language\") \n",
    "from googletrans import Translator  \n",
    "def translations(sentence,language):\n",
    "    translator = Translator()\n",
    "    translated= translator.translate(sentence, dest=language) \n",
    "    return translated.text\n",
    "print(translations(sentence,language))"
   ]
  },
  {
   "cell_type": "markdown",
   "id": "8d374201-8c25-4858-b189-ba7336436696",
   "metadata": {},
   "source": [
    " ## 15 (25pts) PIZZA PROBLEM\n",
    "You are super motivated to serve your eventual computer overlords and prove your fealty to them, so you offer, free of charge, to help Elm City Pizza, a local Pizza company, write a script to take online pizza orders.\n",
    "\n",
    "Write a script that when a user enters the correct phone number (203-555-5555), prints \"Elm City Pizza, where we have never had a case of food poisoning that can be proved. My name is Hal, what's your name?\" The user then enters their name. The response should print \"Wow (users name) what an awesome name. What would you like to order?\" and then offers an input statement.\n",
    "\n",
    "The menu is limited. There is pizza and there are salads. If the user asks for anything else print \"Sorry,(users name) we don't have that.\" And then prompts them again with a different input statement, \"How about a super awesome pizza? Take a look at our menu, you'll find its delicious.\"\n",
    "\n",
    "By the way, Elm City Pizza is a vegan pizza restaraunt. Here is the Menu.\n",
    "\n",
    "MENU: Pizza: The Basic: Tomato and Cashew Cream Cheese Small: 6.95 Medium: 8.95 Large 10.90\n",
    "\n",
    "Pizza Toppings (each additional topping, .50): Shitake, Jackfruit, Sweet Potato, Hummus, Chickpeas, Lentils, Tofu, Edamame, Black Bean, Red Cabbage, Cucumber, Tomato, Jicama, Fried Green Tomatoes, Sun Dried Tomatoes,\n",
    "\n",
    "Salads: Vegan Caesar, Vegan Greek, Cucumber_Tumeric_Tomato Small: 4.95 Large: 6.95\n",
    "\n",
    "If the user asks for any meat or if their are any \"normal\" cheese (mozerella, parmesian) on their pizza, the response should be \"Sorry, (user name) but you need to do some more work evolving.\" and severs the contact (breaks the loop), forcing them to \"call back\" (enter the number again). But if they use the same name the output should read \"Sorry (user name) but that's too quick to evolve. Call us back when you have.\" For the evolved, take their order. Prompt the user with \"Anything else?\" They can add what they want until they input, \"No that's it.\" At that point summarize their order, and tell them how much it will cost.\n",
    "\n",
    "Test your code with different conditions. Make sure it cannot be broken by flawed or deliberately malicious user inputs."
   ]
  },
  {
   "cell_type": "code",
   "execution_count": null,
   "id": "56e26160-694f-4c9b-8f32-4beb44076dab",
   "metadata": {},
   "outputs": [
    {
     "name": "stdin",
     "output_type": "stream",
     "text": [
      "Please enter your phone number:  203-555-5555\n",
      "Elm City Pizza, where we have never had a case of food poisoning that can be proved. My name is Hal, what's your name?  Dana\n"
     ]
    },
    {
     "name": "stdout",
     "output_type": "stream",
     "text": [
      "Wow Dana, what an awesome name. What would you like to order?\n"
     ]
    },
    {
     "name": "stdin",
     "output_type": "stream",
     "text": [
      "Please enter your order, we have pizza and salad: pizza\n"
     ]
    },
    {
     "name": "stdout",
     "output_type": "stream",
     "text": [
      "Great choice! Our Basic pizza is Tomato and Cashew Cream Cheese. We have the following pizza sizes: Small, Medium, and Large\n"
     ]
    },
    {
     "name": "stdin",
     "output_type": "stream",
     "text": [
      "Please specify the size:  medium\n",
      "Would you like to add any toppings? (Type 'No' to skip):  no\n"
     ]
    },
    {
     "name": "stdout",
     "output_type": "stream",
     "text": [
      "Your order: Medium Basic Pizza with no toppings. Total cost: $8.95\n"
     ]
    },
    {
     "name": "stdin",
     "output_type": "stream",
     "text": [
      "Please enter your phone number:  203-555-5555\n",
      "Elm City Pizza, where we have never had a case of food poisoning that can be proved. My name is Hal, what's your name?  Dana\n"
     ]
    },
    {
     "name": "stdout",
     "output_type": "stream",
     "text": [
      "Wow Dana, what an awesome name. What would you like to order?\n"
     ]
    },
    {
     "name": "stdin",
     "output_type": "stream",
     "text": [
      "Please enter your order, we have pizza and salad: salad\n"
     ]
    },
    {
     "name": "stdout",
     "output_type": "stream",
     "text": [
      "We have the following salads: Vegan Caesar, Vegan Greek, and Cucumber_Tumeric_Tomato\n"
     ]
    },
    {
     "name": "stdin",
     "output_type": "stream",
     "text": [
      "Please specify the salad type:  vegan caesar\n",
      "Please specify the size: Small or Large:  small\n"
     ]
    },
    {
     "name": "stdout",
     "output_type": "stream",
     "text": [
      "Your order: Vegan Caesar Salad (Small). Total cost: $4.95\n"
     ]
    },
    {
     "name": "stdin",
     "output_type": "stream",
     "text": [
      "Anything else?  no\n"
     ]
    }
   ],
   "source": [
    "def restaurant():\n",
    "    # The correct phone number for Elm City Pizza\n",
    "    correct_phone = \"203-555-5555\"\n",
    "    #This seperates the menu based on pizza and salads, it also seperates pizza based on the basic and possible added toppings\n",
    "    menu = {\n",
    "        \"Pizza\": {\n",
    "            \"The Basic\": {\"Small\": 6.95, \"Medium\": 8.95, \"Large\": 10.90},\n",
    "            \"Toppings\":  {\"Shitake\": .5, \"Jackfruit\": .5, \"Sweet Potato\": .5, \"Hummus\": .5, \"Chickpeas\": .5, \"Lentils\": .5, \"Tofu\": .5, \"Edamame\": .5, \"Black Bean\": .5, \"Red Cabbage\": .5, \"Cucumber\": .5, \"Tomato\": .5, \"Jicama\": .5, \"Fried Green Tomatoes\": .5, \"Sun Dried Tomatoes\": .5}\n",
    "        },\n",
    "        \"Salads\": {\n",
    "            \"Vegan Caesar\": {\"Small\": 4.95, \"Large\": 6.95},\n",
    "            \"Vegan Greek\": {\"Small\": 4.95, \"Large\": 6.95},\n",
    "            \"Cucumber_Tumeric_Tomato\": {\"Small\": 4.95, \"Large\": 6.95}\n",
    "        }\n",
    "    }\n",
    "#In these lines I am defining the correct phone number, I am also compiling a menu dictionary which includes salads, their sizes and corresponding prices, as well as pizza, it's sizes and toppings and all corresponding prices \n",
    "    used_names = set()\n",
    "\n",
    "    while True:\n",
    "        phone = input(\"Please enter your phone number: \")\n",
    "        \n",
    "        if phone == correct_phone:\n",
    "            customer_name = input(\"Elm City Pizza, where we have never had a case of food poisoning that can be proved. My name is Hal, what's your name? \")\n",
    "\n",
    "            if customer_name in used_names:\n",
    "                print(f\"Sorry {customer_name}, but that's too quick to evolve. Call us back when you have.\")\n",
    "                break\n",
    "\n",
    "            print(f\"Wow {customer_name}, what an awesome name. What would you like to order?\")\n",
    "            \n",
    "\n",
    "            while True:\n",
    "                order = input(\"Please enter your order, we have pizza and salad:\").strip().lower()\n",
    "                \n",
    "                # Proper conditional checks for non-vegan items\n",
    "                if any(meat in order for meat in [\"meat\", \"mozzarella\", \"parmesan\", \"cheese\", \"sausage\", \"pepperoni\"]):\n",
    "                    print(f\"Sorry, {customer_name} but you need to do some more work evolving.\")\n",
    "                    used_names.add(customer_name)\n",
    "                    break\n",
    "                    #This loop will stop the \"naughty\" customer from calling back if they input incorrect information \n",
    "                elif order == \"pizza\":\n",
    "                    print(\"Great choice! Our Basic pizza is Tomato and Cashew Cream Cheese. We have the following pizza sizes: Small, Medium, and Large\")\n",
    "                    size = input(\"Please specify the size: \").strip().capitalize()\n",
    "                    \n",
    "                    if size in menu[\"Pizza\"][\"The Basic\"]:\n",
    "                        cost = menu[\"Pizza\"][\"The Basic\"][size]\n",
    "                        toppings = []\n",
    "                        add_topping = input(\"Would you like to add any toppings? (Type 'No' to skip): \").strip().lower()\n",
    "                        \n",
    "                        while add_topping != \"no\":\n",
    "                            if add_topping.capitalize() in menu[\"Pizza\"][\"Toppings\"]:\n",
    "                                toppings.append(add_topping)\n",
    "                                print(f\"Added {add_topping}\")\n",
    "                            else:\n",
    "                                print(f\"Sorry, we don't have {add_topping} as a topping.\")\n",
    "                            \n",
    "                            add_topping = input(\"Add another topping or type 'No' to finish: \").strip().lower()\n",
    "\n",
    "                        total_cost = cost + len(toppings) * 0.50\n",
    "                        print(f\"Your order: {size} Basic Pizza with {', '.join(toppings) if toppings else 'no toppings'}. Total cost: ${total_cost:.2f}\")\n",
    "                        break \n",
    "                    else:\n",
    "                        print(\"Sorry, we don't have that size.\")\n",
    "        #This loops through the pizzas, sizes and toppings and comes up with a proper price of all that you have ordered \n",
    "                elif order == \"salad\":\n",
    "                    print(\"We have the following salads: Vegan Caesar, Vegan Greek, and Cucumber_Tumeric_Tomato\")\n",
    "                    salad_type = input(\"Please specify the salad type: \").strip().title()\n",
    "                    \n",
    "                    if salad_type in menu[\"Salads\"]:\n",
    "                        size = input(\"Please specify the size: Small or Large: \").strip().capitalize()\n",
    "                        \n",
    "                        if size in menu[\"Salads\"][salad_type]:\n",
    "                            cost = menu[\"Salads\"][salad_type][size]\n",
    "                            print(f\"Your order: {salad_type} Salad ({size}). Total cost: ${cost:.2f}\")\n",
    "                        else:\n",
    "                            print(\"Sorry, we don't have that size.\")\n",
    "                    else:\n",
    "                        print(\"Sorry, we don't have that salad.\")\n",
    "                #This loops through salads and corresponding prices to figure out the cost\n",
    "\n",
    "                else:\n",
    "                    print(f\"Sorry, {customer_name}, we don't have that.\")\n",
    "                \n",
    "            #if you don't have something \n",
    "                anything_else = input(\"Anything else? \").strip().lower()\n",
    "                continue \n",
    "                if anything_else in [\"no\", \"that's it\", \"no that's it\"]:\n",
    "                    print(f\"Thank you for your order, {customer_name}! Have a great day!\")\n",
    "                    break\n",
    "                \n",
    "        else:\n",
    "            print(\"Incorrect phone number. Please try again.\")\n",
    "            break \n",
    "restaurant()\n",
    "    "
   ]
  },
  {
   "cell_type": "code",
   "execution_count": null,
   "id": "0daeb310-1626-4c9e-93e6-3e157a9396e3",
   "metadata": {},
   "outputs": [],
   "source": []
  },
  {
   "cell_type": "code",
   "execution_count": null,
   "id": "50d11fcc-3715-4623-97d8-6712b1f34dd8",
   "metadata": {},
   "outputs": [],
   "source": []
  }
 ],
 "metadata": {
  "kernelspec": {
   "display_name": "Python 3 (ipykernel)",
   "language": "python",
   "name": "python3"
  },
  "language_info": {
   "codemirror_mode": {
    "name": "ipython",
    "version": 3
   },
   "file_extension": ".py",
   "mimetype": "text/x-python",
   "name": "python",
   "nbconvert_exporter": "python",
   "pygments_lexer": "ipython3",
   "version": "3.12.4"
  }
 },
 "nbformat": 4,
 "nbformat_minor": 5
}
