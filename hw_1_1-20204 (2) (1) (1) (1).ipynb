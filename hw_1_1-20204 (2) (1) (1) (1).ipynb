{
 "cells": [
  {
   "cell_type": "markdown",
   "metadata": {},
   "source": [
    "## Homework 1"
   ]
  },
  {
   "cell_type": "markdown",
   "metadata": {
    "scrolled": true
   },
   "source": [
    "1. What is a markdown cell in jupyter notebook and how do I change a cell from a markdown cell to a code cell? Use a markdown cell type for this answer."
   ]
  },
  {
   "cell_type": "markdown",
   "metadata": {},
   "source": [
    "A code cell is where you write code, a markdown cell acts as a word document, so if you're writing a report you can have both markdown and coding cells to have both code and a write-up. You change a code cell into a markdown cell by using the code drop-down in the upper left corner. "
   ]
  },
  {
   "cell_type": "markdown",
   "metadata": {},
   "source": [
    "2. In Python, what is the difference between =(single equal) and == (double equal)? Please give an example of each."
   ]
  },
  {
   "cell_type": "markdown",
   "metadata": {},
   "source": [
    "Single equals sign is used as an equals sign, to assign values to variables, etc. "
   ]
  },
  {
   "cell_type": "code",
   "execution_count": 610,
   "metadata": {},
   "outputs": [
    {
     "name": "stdout",
     "output_type": "stream",
     "text": [
      "5\n"
     ]
    }
   ],
   "source": [
    "x = 5 \n",
    "print(x)"
   ]
  },
  {
   "cell_type": "markdown",
   "metadata": {},
   "source": [
    "I just created a variable x and assigned it a value of 5.  Double equals is asking the computer to evaluate the statement. For example 2 + 2 == 5 returns \"false\" as that statement is false."
   ]
  },
  {
   "cell_type": "code",
   "execution_count": 612,
   "metadata": {},
   "outputs": [
    {
     "data": {
      "text/plain": [
       "False"
      ]
     },
     "execution_count": 612,
     "metadata": {},
     "output_type": "execute_result"
    }
   ],
   "source": [
    "2 + 2 ==5 "
   ]
  },
  {
   "cell_type": "markdown",
   "metadata": {},
   "source": [
    "3. If I am commenting on my code in a cell, what are the two ways to do this in Python?"
   ]
  },
  {
   "cell_type": "code",
   "execution_count": 614,
   "metadata": {},
   "outputs": [
    {
     "data": {
      "text/plain": [
       "'\\nTriple quotations is the other way to comment \\n'"
      ]
     },
     "execution_count": 614,
     "metadata": {},
     "output_type": "execute_result"
    }
   ],
   "source": [
    "#The first is to use a hashtag/number sign like this \n",
    "\"\"\"\n",
    "Triple quotations is the other way to comment \n",
    "\"\"\" "
   ]
  },
  {
   "cell_type": "markdown",
   "metadata": {},
   "source": [
    "4. Assign your name, your Yale program, and your year of graduation equal to variables of your choosing. Then write a print statement using an \"f string\" that says \"Hello, my name is (name). I am in Yale's (program) and I hope to graduate in (year).\""
   ]
  },
  {
   "cell_type": "code",
   "execution_count": 616,
   "metadata": {},
   "outputs": [
    {
     "name": "stdout",
     "output_type": "stream",
     "text": [
      "Hello my name is Dana Councilman. I am in Yale's Jackson MPP Program and I hope to graduate in 2025.\n"
     ]
    }
   ],
   "source": [
    "x = \"Dana Councilman\"\n",
    "y = \"Jackson MPP Program\"\n",
    "z = 2025 \n",
    "print(f\"Hello my name is {x}. I am in Yale's {y} and I hope to graduate in {z}.\")\n"
   ]
  },
  {
   "cell_type": "markdown",
   "metadata": {},
   "source": [
    "5. Write the mathematical operators for the following using a markdown cell type and give a code example of each:\n",
    "\n",
    "For example: plus: + , 3 + 4\n",
    "\n",
    "minus: -, 5 - 2\n",
    "\n",
    "multiply:*, 3 * 14\n",
    "\n",
    "divide: /, 24/8\n",
    "\n",
    "find the remainder of two numbers divided:%, 7 % 3 \n",
    "\n",
    "square: (as in 3 squared is 9)**, 3**2\n",
    "\n",
    "cube: (as in 2 cubed is 8)**, 2**3 \n",
    "\n",
    "greater than: >, 9 > 6 \n",
    "\n",
    "greater than or equal to: >=, 5 >= 3 \n",
    "\n",
    "less than:<, 2 < 5\n",
    "\n",
    "less than or equal to: =<, 4 =< 6"
   ]
  },
  {
   "cell_type": "markdown",
   "metadata": {},
   "source": [
    "6. What is the built-in Python function to determine the type of an object? Give four examples of using this function on four different object types."
   ]
  },
  {
   "cell_type": "code",
   "execution_count": 619,
   "metadata": {},
   "outputs": [
    {
     "name": "stdout",
     "output_type": "stream",
     "text": [
      "<class 'float'>\n",
      "<class 'str'>\n",
      "<class 'int'>\n",
      "<class 'bool'>\n"
     ]
    }
   ],
   "source": [
    "#The function is \"type\"\n",
    "div = 7/3 \n",
    "name = \"Dana\"\n",
    "eleven = 11 \n",
    "print(type(div))\n",
    "print(type(name))\n",
    "print(type(eleven))\n",
    "print(type(True))"
   ]
  },
  {
   "cell_type": "markdown",
   "metadata": {},
   "source": [
    "7. Use the \"replace\" method in python so that the following occurs:\n",
    "\n",
    "greeting = \"Hello there students!\"\n",
    "becomes\n",
    "print(greeting)\n",
    "output: \"Hello there Pythonistas!\""
   ]
  },
  {
   "cell_type": "code",
   "execution_count": 621,
   "metadata": {},
   "outputs": [
    {
     "name": "stdout",
     "output_type": "stream",
     "text": [
      "Hello there Pythonistas!\n"
     ]
    }
   ],
   "source": [
    "greeting = \"Hello there students!\"\n",
    "print(greeting.replace(\"students\", \"Pythonistas\"))"
   ]
  },
  {
   "cell_type": "markdown",
   "metadata": {},
   "source": [
    "8.In the following code:\n",
    "agreement = \"Paris Agreement\" \n",
    "agreement.replace(\"Paris\", \"Moon\") \n",
    "print(agreement)\n",
    "\n",
    "The output is \"Paris Agreement\", not \"Moon Agreement\"\n",
    "\n",
    "Please explain why that is the case. \n"
   ]
  },
  {
   "cell_type": "markdown",
   "metadata": {},
   "source": [
    "Print is a function, so it needs to go around the entire line of code to replace the word in the print function. : \n"
   ]
  },
  {
   "cell_type": "markdown",
   "metadata": {},
   "source": [
    "9. Now fix the code using the replace method so that:\n",
    "   agreement = \"Paris Agreement\"\n",
    "   when you write:\n",
    "   print(agreement)\n",
    "   output is \"Moon Agreement\""
   ]
  },
  {
   "cell_type": "markdown",
   "metadata": {},
   "source": [
    "print(agreement.replace(\"Paris\", \"Moon\")) "
   ]
  },
  {
   "cell_type": "code",
   "execution_count": 626,
   "metadata": {},
   "outputs": [],
   "source": [
    "#10. Please explain why the statement returns \"False\" and write code that fixes the error:\n",
    "#.3 + .3 + .3  == .9"
   ]
  },
  {
   "cell_type": "code",
   "execution_count": 627,
   "metadata": {},
   "outputs": [
    {
     "data": {
      "text/plain": [
       "True"
      ]
     },
     "execution_count": 627,
     "metadata": {},
     "output_type": "execute_result"
    }
   ],
   "source": [
    "#Python doesn't store decimals correctly, so the numbers need to be rounded to be interpreted correctly \n",
    "round(.3+ .3 +.3,1) == .9"
   ]
  },
  {
   "cell_type": "markdown",
   "metadata": {},
   "source": [
    "11. I want to make a tip calculator. Step one:\n",
    "Please use the input method to accept an input from a user prompting them with \"Please enter a price of the meal\" and save\n",
    " it to the variable \"price\""
   ]
  },
  {
   "cell_type": "code",
   "execution_count": 629,
   "metadata": {},
   "outputs": [
    {
     "name": "stdin",
     "output_type": "stream",
     "text": [
      "Please enter the price of the meal 10\n"
     ]
    }
   ],
   "source": [
    "#Your code here:\n",
    "price = int(input(\"Please enter the price of the meal\"))"
   ]
  },
  {
   "cell_type": "markdown",
   "metadata": {},
   "source": [
    "12. Here is a script I wrote for a tip calculator:\n",
    "                        \n",
    "price = input(\"Please enter the price of the meal: \" )\n",
    "\n",
    "tip = price * 0.22\n",
    "\n",
    "total = price + tip\n",
    "\n",
    "print(\"A 16% tip would be: \", tip)\n",
    "\n",
    "print(\"The total including tip would be: \", total)\n",
    "The problem is it throws an error! Can you look at this code and see why it is throwing an error without running it? "
   ]
  },
  {
   "cell_type": "code",
   "execution_count": 631,
   "metadata": {},
   "outputs": [],
   "source": [
    "#The price variable will need to be converted into an integer in order to multiply it by .22"
   ]
  },
  {
   "cell_type": "markdown",
   "metadata": {},
   "source": [
    "13. Please fix the above code and run it:"
   ]
  },
  {
   "cell_type": "code",
   "execution_count": 633,
   "metadata": {},
   "outputs": [
    {
     "name": "stdin",
     "output_type": "stream",
     "text": [
      "Please enter the price of the meal:  19\n"
     ]
    },
    {
     "name": "stdout",
     "output_type": "stream",
     "text": [
      "A 22% tip would be:  4.18\n",
      "The total including tip would be:  23.18\n"
     ]
    }
   ],
   "source": [
    "price = int(input(\"Please enter the price of the meal: \" ))\n",
    "\n",
    "tip = price * .22\n",
    "\n",
    "total = price + tip\n",
    "\n",
    "print(\"A 22% tip would be: \", tip)\n",
    "\n",
    "print(\"The total including tip would be: \", total)"
   ]
  },
  {
   "cell_type": "markdown",
   "metadata": {},
   "source": [
    "14. Write a script that takes a user inputted string and checks whether if they are the following\n",
    "\n",
    "if it is all alphabets\n",
    "if it is numeric\n",
    "if it is all upper case\n",
    "if it is all lower case"
   ]
  },
  {
   "cell_type": "code",
   "execution_count": 635,
   "metadata": {},
   "outputs": [
    {
     "name": "stdin",
     "output_type": "stream",
     "text": [
      "please enter a string hello my name is dana\n"
     ]
    },
    {
     "name": "stdout",
     "output_type": "stream",
     "text": [
      "False\n",
      "False\n",
      "False\n",
      "True\n"
     ]
    }
   ],
   "source": [
    "string = input(\"please enter a string\")\n",
    "print(string.isalpha())\n",
    "print(string.isnumeric())\n",
    "print(string.isupper())\n",
    "print(string.islower())"
   ]
  },
  {
   "cell_type": "markdown",
   "metadata": {},
   "source": [
    "15. Write a script that takes a user inputted target_string of your chosing and prints it out in the following three formats.\n",
    "\n",
    "All letters capitalized - capitalize( )\n",
    "All letters lowercase - lower( )\n",
    "All vowels lowercase and all consonants uppercase "
   ]
  },
  {
   "cell_type": "code",
   "execution_count": 637,
   "metadata": {},
   "outputs": [
    {
     "name": "stdin",
     "output_type": "stream",
     "text": [
      "please enter a string Dana\n"
     ]
    },
    {
     "name": "stdout",
     "output_type": "stream",
     "text": [
      "DANA\n",
      "dana\n",
      "DaNa\n"
     ]
    }
   ],
   "source": [
    "target_string = input(\"please enter a string\")\n",
    "print(target_string.upper())\n",
    "print(target_string.lower())\n",
    "def toggle(target_string):\n",
    "    answer = \"\"\n",
    "    for letter  in target_string:\n",
    "        if letter not in \"aeiouAEIOU\":\n",
    "            answer = answer + letter.upper()\n",
    "        else:\n",
    "            answer = answer + letter.lower()\n",
    "    return answer\n",
    "\n",
    "print(toggle(target_string))"
   ]
  },
  {
   "cell_type": "markdown",
   "metadata": {},
   "source": [
    "16. Assuming a package is not part of the Anaconda build of Python used, how would I:\n",
    "a. install a package from my terminal?\n",
    "b. install a package from my Jupyter notebook ?\n",
    "c. import a package ? \n",
    "d. what happens when if I write \"import this\" but don't name a package? (run it below)"
   ]
  },
  {
   "cell_type": "code",
   "execution_count": 639,
   "metadata": {},
   "outputs": [],
   "source": [
    "#Your code here:\n",
    "#a   conda install package-name\n",
    "#b. The internet tells me the code here is #!pip install <package_name>\n",
    "#c. import [package name] as np\n",
    "#d. You get a poem\n",
    "import this\n"
   ]
  },
  {
   "cell_type": "markdown",
   "metadata": {},
   "source": [
    "17.statement= 'It's truly one of my favorite quotes: \"Success depends on intuition, on seeing what afterwards proves to be true but cannot be established at the moment\"\n",
    "#To whom is the previous quote atributed?"
   ]
  },
  {
   "cell_type": "markdown",
   "metadata": {},
   "source": [
    "Joseph Schumpeter"
   ]
  },
  {
   "cell_type": "markdown",
   "metadata": {},
   "source": [
    "18. Copy the code above to the cell below. Run it. Why is it throwing an error? Please fix it."
   ]
  },
  {
   "cell_type": "code",
   "execution_count": 643,
   "metadata": {},
   "outputs": [
    {
     "name": "stdout",
     "output_type": "stream",
     "text": [
      "Its truly one of my favorite quotes: \"Success depends on intuition, on seeing what afterwards proves to be true but cannot be established at the moment\"\n"
     ]
    }
   ],
   "source": [
    "#Your answer here: Mismatched quotations, you need two quotes at the end, plus python really hates apostrophes (as they're also quotes) so I had to remove that\n",
    "#17 \n",
    "statement= 'Its truly one of my favorite quotes: \"Success depends on intuition, on seeing what afterwards proves to be true but cannot be established at the moment\"'\n",
    "print(statement)"
   ]
  },
  {
   "cell_type": "markdown",
   "metadata": {},
   "source": [
    "19. Write code, using the strip() method  to remove the white spaces from the beginning and the end of the following and print below:\n",
    "\n"
   ]
  },
  {
   "cell_type": "code",
   "execution_count": 645,
   "metadata": {},
   "outputs": [
    {
     "name": "stdout",
     "output_type": "stream",
     "text": [
      "Hi students. What's going on?!\n"
     ]
    }
   ],
   "source": [
    "greeting = \"   Hi students. What's going on?!       \"\n",
    "print(greeting.strip())"
   ]
  },
  {
   "cell_type": "markdown",
   "metadata": {},
   "source": [
    "20. (2pt) How do you convert a string to all lowercase? Give an example."
   ]
  },
  {
   "cell_type": "code",
   "execution_count": 647,
   "metadata": {},
   "outputs": [
    {
     "name": "stdout",
     "output_type": "stream",
     "text": [
      "   hi students. what's going on?!       \n"
     ]
    }
   ],
   "source": [
    "# the command is lower\n",
    "print(greeting.lower())\n"
   ]
  },
  {
   "cell_type": "markdown",
   "metadata": {},
   "source": [
    "21. (2pt)How do you convert a string to a list in python? Give an example."
   ]
  },
  {
   "cell_type": "code",
   "execution_count": 649,
   "metadata": {},
   "outputs": [
    {
     "name": "stdout",
     "output_type": "stream",
     "text": [
      "['Hi', 'students.', \"What's\", 'going', 'on?!']\n"
     ]
    }
   ],
   "source": [
    "# split command \n",
    "print(greeting.split())"
   ]
  },
  {
   "cell_type": "markdown",
   "metadata": {},
   "source": [
    "22. (2pt) How do you convert a string to a tuple in python? Give an example."
   ]
  },
  {
   "cell_type": "code",
   "execution_count": 651,
   "metadata": {},
   "outputs": [
    {
     "name": "stdout",
     "output_type": "stream",
     "text": [
      "(\"   Hi students. What's going on?!       \",)\n"
     ]
    }
   ],
   "source": [
    "# tuple and split commands: \n",
    "print(tuple(greeting.split(\", \")))\n"
   ]
  },
  {
   "cell_type": "markdown",
   "metadata": {},
   "source": [
    "23. (2pt) How do you convert a string to an int in python? Give an example."
   ]
  },
  {
   "cell_type": "code",
   "execution_count": 653,
   "metadata": {},
   "outputs": [
    {
     "name": "stdout",
     "output_type": "stream",
     "text": [
      "125\n"
     ]
    }
   ],
   "source": [
    "# int command \n",
    "a = \"125\"\n",
    "print(int(a))"
   ]
  },
  {
   "cell_type": "markdown",
   "metadata": {},
   "source": [
    "24. (2pt) How do you convert a string to a float in python? Give an example."
   ]
  },
  {
   "cell_type": "code",
   "execution_count": 655,
   "metadata": {},
   "outputs": [
    {
     "name": "stdout",
     "output_type": "stream",
     "text": [
      "3.14\n"
     ]
    }
   ],
   "source": [
    "# float command\n",
    "pi = \"3.14\"\n",
    "print(float(pi))"
   ]
  },
  {
   "cell_type": "markdown",
   "metadata": {},
   "source": [
    "25. (2pt) What are Python's dictionaries? Give an example of a great use for dictionaries.Give an example."
   ]
  },
  {
   "cell_type": "code",
   "execution_count": 657,
   "metadata": {},
   "outputs": [],
   "source": [
    "# Python dictionaries are collections of information that are ordered, changeable and does not allow duplicates (just like \"normal\" dictionaries). An example of a good use of dictionaries would be if you stored the name and program information for each student in this class, so it is readily available to you for reference.   "
   ]
  },
  {
   "cell_type": "markdown",
   "metadata": {},
   "source": [
    "26. (2pt) Create a dictionary with keys and values. Give an example."
   ]
  },
  {
   "cell_type": "code",
   "execution_count": 659,
   "metadata": {},
   "outputs": [],
   "source": [
    "dict_1 = {\n",
    "    \"name\": \"Dana\",\n",
    "    \"age\": 28,\n",
    "    \"city\": \"New Haven\"\n",
    "}"
   ]
  },
  {
   "cell_type": "markdown",
   "metadata": {},
   "source": [
    "27. (2pt) How do you get all the values from the dictionary? Give an example."
   ]
  },
  {
   "cell_type": "code",
   "execution_count": 661,
   "metadata": {},
   "outputs": [
    {
     "name": "stdout",
     "output_type": "stream",
     "text": [
      "dict_values(['Dana', 28, 'New Haven'])\n"
     ]
    }
   ],
   "source": [
    "# Use the values command\n",
    "\n",
    "print(dict_1.values())"
   ]
  },
  {
   "cell_type": "markdown",
   "metadata": {},
   "source": [
    "28. (2pt) How do you get all the keys from the dictionary? Give an example."
   ]
  },
  {
   "cell_type": "code",
   "execution_count": 663,
   "metadata": {},
   "outputs": [
    {
     "name": "stdout",
     "output_type": "stream",
     "text": [
      "dict_keys(['name', 'age', 'city'])\n"
     ]
    }
   ],
   "source": [
    "# Use the keys command \n",
    "print(dict_1.keys())"
   ]
  },
  {
   "cell_type": "markdown",
   "metadata": {},
   "source": [
    "29. (2pt) How do you capitalizes first letter of string? Give an example."
   ]
  },
  {
   "cell_type": "code",
   "execution_count": 665,
   "metadata": {},
   "outputs": [
    {
     "name": "stdout",
     "output_type": "stream",
     "text": [
      "Hello, my name is dana\n"
     ]
    }
   ],
   "source": [
    "# Capitalize Command \n",
    "greeting_1 = \"hello, my name is dana\"\n",
    "print(greeting_1.capitalize()) "
   ]
  },
  {
   "cell_type": "markdown",
   "metadata": {},
   "source": [
    "30. (2pt) How do you check in a string that all characters are digits? Give an example.\n"
   ]
  },
  {
   "cell_type": "code",
   "execution_count": 667,
   "metadata": {},
   "outputs": [
    {
     "data": {
      "text/plain": [
       "False"
      ]
     },
     "execution_count": 667,
     "metadata": {},
     "output_type": "execute_result"
    }
   ],
   "source": [
    "#Is Digits Command\n",
    "greeting_1.isdigit()"
   ]
  },
  {
   "cell_type": "markdown",
   "metadata": {},
   "source": [
    "31. (2pt) How do you check in a string that all characters are alphanumeric? Give an example."
   ]
  },
  {
   "cell_type": "code",
   "execution_count": 669,
   "metadata": {},
   "outputs": [
    {
     "data": {
      "text/plain": [
       "False"
      ]
     },
     "execution_count": 669,
     "metadata": {},
     "output_type": "execute_result"
    }
   ],
   "source": [
    "# isalnum command\n",
    "greeting_1.isalnum()"
   ]
  },
  {
   "cell_type": "markdown",
   "metadata": {},
   "source": [
    "32. (2pt) How do you check in a string that all characters are in lowercase? Give an example."
   ]
  },
  {
   "cell_type": "code",
   "execution_count": 671,
   "metadata": {},
   "outputs": [
    {
     "data": {
      "text/plain": [
       "True"
      ]
     },
     "execution_count": 671,
     "metadata": {},
     "output_type": "execute_result"
    }
   ],
   "source": [
    "# islower command\n",
    "greeting_1.islower()"
   ]
  },
  {
   "cell_type": "markdown",
   "metadata": {},
   "source": [
    "33. (2pt) How do you check in a string that all characters are not numbers. Give an example."
   ]
  },
  {
   "cell_type": "code",
   "execution_count": 673,
   "metadata": {},
   "outputs": [
    {
     "data": {
      "text/plain": [
       "False"
      ]
     },
     "execution_count": 673,
     "metadata": {},
     "output_type": "execute_result"
    }
   ],
   "source": [
    "# isnumeric command\n",
    "greeting_1.isnumeric()"
   ]
  },
  {
   "cell_type": "markdown",
   "metadata": {},
   "source": [
    "33. (2pt) How do you get the length of the string? Give an example."
   ]
  },
  {
   "cell_type": "code",
   "execution_count": 675,
   "metadata": {},
   "outputs": [
    {
     "data": {
      "text/plain": [
       "22"
      ]
     },
     "execution_count": 675,
     "metadata": {},
     "output_type": "execute_result"
    }
   ],
   "source": [
    "#len command\n",
    "len(greeting_1)"
   ]
  },
  {
   "cell_type": "markdown",
   "metadata": {},
   "source": [
    "34. (2pt) How do you convert a string to all lowercase? Give an example."
   ]
  },
  {
   "cell_type": "code",
   "execution_count": 677,
   "metadata": {},
   "outputs": [
    {
     "name": "stdout",
     "output_type": "stream",
     "text": [
      "hello, my name is dana\n"
     ]
    }
   ],
   "source": [
    "# lower command\n",
    "print(greeting_1.lower())"
   ]
  },
  {
   "cell_type": "markdown",
   "metadata": {},
   "source": [
    "35. (2pt) How do you remove all leading whitespace in string? Give an example."
   ]
  },
  {
   "cell_type": "code",
   "execution_count": 679,
   "metadata": {},
   "outputs": [
    {
     "name": "stdout",
     "output_type": "stream",
     "text": [
      " Hello, my name is Dana\n",
      "Hello, my name is Dana\n"
     ]
    }
   ],
   "source": [
    "# lstrip command\n",
    "greeting_2 = \" Hello, my name is Dana\"\n",
    "print(greeting_2)\n",
    "print(greeting_2.lstrip())"
   ]
  },
  {
   "cell_type": "markdown",
   "metadata": {},
   "source": [
    "36. (2pt) What is the difference between del() and remove() methods of list? Give an example."
   ]
  },
  {
   "cell_type": "code",
   "execution_count": 681,
   "metadata": {},
   "outputs": [
    {
     "name": "stdout",
     "output_type": "stream",
     "text": [
      "[5, 3, 2, 1]\n",
      "[5, 3, 2, 1]\n"
     ]
    }
   ],
   "source": [
    "# There are a few differences. Del works based on the index while remove is based on the value of the element also del can be used on any object while remove only works on lists\n",
    "my_list = [5, 4, 3, 2, 1]\n",
    "del my_list[1]\n",
    "print(my_list)\n",
    "#note how it moved 4 as that is the element indexed as 1\n",
    "my_list2 = [5, 4, 3, 2, 1]\n",
    "my_list2.remove(4)\n",
    "print(my_list2)\n",
    "#Here is removed 4 based on the value"
   ]
  },
  {
   "cell_type": "markdown",
   "metadata": {},
   "source": [
    "37. (2pt) How do you get the index of an object in a list? Give an example."
   ]
  },
  {
   "cell_type": "code",
   "execution_count": 683,
   "metadata": {},
   "outputs": [
    {
     "name": "stdout",
     "output_type": "stream",
     "text": [
      "1\n"
     ]
    }
   ],
   "source": [
    "# index command (worth remembering the first element in a python list would be 0 \n",
    "colors = [\"red\", \"orange\", \"green\"] \n",
    "print(colors.index(\"orange\"))"
   ]
  },
  {
   "cell_type": "markdown",
   "metadata": {},
   "source": [
    "38. (2pt) How do you insert an object at given index in a list? Give an example."
   ]
  },
  {
   "cell_type": "code",
   "execution_count": 685,
   "metadata": {},
   "outputs": [
    {
     "name": "stdout",
     "output_type": "stream",
     "text": [
      "['red', 'orange', 'yellow', 'green']\n"
     ]
    }
   ],
   "source": [
    "# Insert command\n",
    "colors.insert(2, \"yellow\")\n",
    "print(colors)"
   ]
  },
  {
   "cell_type": "markdown",
   "metadata": {},
   "source": [
    "39. (2pt) How do you get the length of a list? Give an example."
   ]
  },
  {
   "cell_type": "code",
   "execution_count": 687,
   "metadata": {},
   "outputs": [
    {
     "name": "stdout",
     "output_type": "stream",
     "text": [
      "4\n"
     ]
    }
   ],
   "source": [
    "#len command, same as strings\n",
    "print(len(colors))"
   ]
  },
  {
   "cell_type": "markdown",
   "metadata": {},
   "source": [
    "40. (2pt) How do you remove last object from a list?"
   ]
  },
  {
   "cell_type": "code",
   "execution_count": 689,
   "metadata": {},
   "outputs": [
    {
     "name": "stdout",
     "output_type": "stream",
     "text": [
      "['red', 'orange', 'yellow']\n"
     ]
    }
   ],
   "source": [
    "# pop command \n",
    "colors.pop()\n",
    "print(colors)"
   ]
  },
  {
   "cell_type": "markdown",
   "metadata": {},
   "source": [
    "41. (2pt) How do you reverse a list? Give an example."
   ]
  },
  {
   "cell_type": "code",
   "execution_count": 691,
   "metadata": {},
   "outputs": [
    {
     "name": "stdout",
     "output_type": "stream",
     "text": [
      "['green', 'yellow', 'orange', 'red']\n"
     ]
    }
   ],
   "source": [
    "# reverse \n",
    "colors = [\"red\", \"orange\", \"yellow\", \"green\"]\n",
    "colors.reverse()\n",
    "print(colors)"
   ]
  },
  {
   "cell_type": "markdown",
   "metadata": {},
   "source": [
    "42. (2pt) How would you slice a list? Give an example."
   ]
  },
  {
   "cell_type": "code",
   "execution_count": 693,
   "metadata": {},
   "outputs": [
    {
     "name": "stdout",
     "output_type": "stream",
     "text": [
      "['yellow', 'orange']\n"
     ]
    }
   ],
   "source": [
    "# You use start and end to extract a portion of the list \n",
    "colors2 = colors[1:3]\n",
    "print(colors2)"
   ]
  },
  {
   "cell_type": "markdown",
   "metadata": {},
   "source": [
    "43. (10 pts) Iterate through a list and create a new list with only happy words. A happy is anything above the threshold. Print your happy word list without values (just words)."
   ]
  },
  {
   "cell_type": "code",
   "execution_count": 695,
   "metadata": {},
   "outputs": [
    {
     "name": "stdout",
     "output_type": "stream",
     "text": [
      "[('overjoyed', 1.0)]\n",
      "[('overjoyed', 1.0), ('blissful', 0.9)]\n",
      "[('overjoyed', 1.0), ('blissful', 0.9), ('chocolately', 0.8)]\n"
     ]
    }
   ],
   "source": [
    "threshold = 0.5\n",
    "feelings = [('blue', 0.1), ('melancholy',0.4), ('fine', 0.5 ), ('okay',0.5), ('overjoyed',1.0), ('blissful',0.9), ('chocolately',0.8)]\n",
    "happy_feelings = []\n",
    "for item in feelings:\n",
    "    if item[1] > threshold:\n",
    "        happy_feelings.append(item)\n",
    "        print(happy_feelings)\n"
   ]
  },
  {
   "cell_type": "markdown",
   "metadata": {},
   "source": [
    "44. (5 pts) Take a user input that takes in a user's name, age.\n",
    "Create an f string that prints \"Hello \"name\", how does it feel to be \"age?\"\n",
    "Then create an answer that takes a random choice from your happy_word list, and print \"Gee, it feels \"answer\" to be \"age\". Thanks for asking!\"\n",
    "\n"
   ]
  },
  {
   "cell_type": "code",
   "execution_count": 766,
   "metadata": {
    "scrolled": true
   },
   "outputs": [
    {
     "name": "stdin",
     "output_type": "stream",
     "text": [
      "what is your name Dana\n",
      "how old are you? 28\n"
     ]
    },
    {
     "name": "stdout",
     "output_type": "stream",
     "text": [
      "Hello  Dana. How does it feel to be  28?\n",
      "Gee, it feels blissful to be 28. Thanks for asking!\n"
     ]
    }
   ],
   "source": [
    "name = input(\"what is your name\")\n",
    "age = int(input(\"how old are you?\"))\n",
    "print(f\"Hello  {name}. How does it feel to be  {age}?\")\n",
    "import random\n",
    "random_word = random.choice(happy_feelings)\n",
    "print(f\"Gee, it feels {random_word} to be {age}. Thanks for asking!\")\n",
    "\n",
    "            "
   ]
  },
  {
   "cell_type": "markdown",
   "metadata": {},
   "source": [
    "45. (5 pts) Convert the following quote to a single string assigned to the variable Brzezinski, without numbers or special characters. Print the output. Make sure you add quotation marks to the beginning and end of the quote.\n"
   ]
  },
  {
   "cell_type": "code",
   "execution_count": 699,
   "metadata": {},
   "outputs": [
    {
     "name": "stdout",
     "output_type": "stream",
     "text": [
      "'Most Americans  are close to total ignorance about the world They are ignorant That is an unhealthy condition in a country in which foreign policy has to be endorsed by the people  if it is to be pursued And  it makes it much more difficult for any president to pursue an intelligent  policy that does justice to the complexity of the world'\n"
     ]
    },
    {
     "name": "stderr",
     "output_type": "stream",
     "text": [
      "<>:5: SyntaxWarning: invalid escape sequence '\\s'\n",
      "<>:5: SyntaxWarning: invalid escape sequence '\\s'\n",
      "C:\\Users\\Dana Councilman\\AppData\\Local\\Temp\\ipykernel_25820\\1973311125.py:5: SyntaxWarning: invalid escape sequence '\\s'\n",
      "  Brzezinski=re.sub(\"[^a-zA-Z\\s]\",\"\", quote)\n"
     ]
    }
   ],
   "source": [
    "\n",
    "import re\n",
    "\n",
    "quote = [[('Most Americans ^331 are close to total ignorance about the world. They are ignorant. That is an unhealthy condition in a country in which foreign policy has to be endorsed by the people 402 if it is to be pursued. And 404 it makes it much more difficult for any president to pursue an intelligent %%&* policy that does justice to the complexity of the world.')]]\n",
    "quote= str(quote)\n",
    "Brzezinski=re.sub(\"[^a-zA-Z\\s]\",\"\", quote)\n",
    "print(f\"'{ Brzezinski}'\")\n"
   ]
  },
  {
   "cell_type": "markdown",
   "metadata": {},
   "source": [
    "46. (1pts) There is a wikipedia package for Python! It makes it super easy to collect and parse entries. Install it and print a summary of the Marquis de Lafayette in French."
   ]
  },
  {
   "cell_type": "code",
   "execution_count": 701,
   "metadata": {},
   "outputs": [
    {
     "name": "stdout",
     "output_type": "stream",
     "text": [
      "Gilbert du Motier, marquis de La Fayette, né le 6 septembre 1757 au château de Chavaniac près de Saint-Georges-d'Aurac (Auvergne, actuel département de la Haute-Loire), et mort le 20 mai 1834 à Paris (ancien 1er arrondissement), est un officier et homme politique français, célèbre en raison de son engagement dans les rangs de l'armée des insurgés américains (1777-1783), puis dans l'aile libérale et réformiste de l'aristocratie française (1784-1792), enfin dans l'opposition libérale au régime de la monarchie de Juillet qu'il avait pourtant contribué à établir lors des Trois Glorieuses (juillet 1830).\n",
      "Convaincu de la noblesse de la cause des insurgés américains, il s'engage à leurs côtés en 1777. Nommé général à l'âge de 19 ans par George Washington, La Fayette joue un rôle décisif dans la guerre d'indépendance des États-Unis contre la Grande-Bretagne, notamment lors de la victoire de Yorktown le 19 octobre 1781. Surnommé le « héros des deux mondes », il est depuis 2002 un des huit citoyens d'honneur des États-Unis. Il y fait d'ailleurs à l'invitation du président James Monroe un voyage triomphal en 1824, au cours duquel il est accueilli et honoré dans 182 villes des 24 États que compte l'Union à cette époque.\n",
      "Après avoir combattu aux États-Unis, La Fayette œuvre en France à la rénovation du pouvoir royal, avant de devenir une des grandes personnalités de la Révolution française, avec la rédaction de la déclaration des droits de l'homme et du citoyen et le commandement de la Garde nationale, jusqu'à son émigration en 1792 après avoir déserté son poste en espérant rallier l’armée prussienne. Il est néanmoins arrêté et incarcéré pendant cinq ans par les autorités autrichiennes et prussiennes.\n",
      "La Fayette est aussi un acteur politique majeur de la révolution de Juillet en 1830 et des débuts de la monarchie de Juillet, rompant cependant rapidement avec le roi Louis-Philippe dont il avait soutenu l'accession au trône. Durant cette dernière période de sa vie, il s'affirme aussi comme un soutien majeur à la Pologne après l'insurrection de 1830-1831.\n",
      "À partir de 1789, La Fayette signe ses courriers « Lafayette » en un seul mot, en réaction contre le système nobiliaire abattu par la révolution. C'est cette graphie qui est utilisée par ses contemporains jusqu'à sa mort.\n"
     ]
    }
   ],
   "source": [
    "import wikipedia\n",
    "wikipedia.set_lang('fr')\n",
    "print(wikipedia.summary(\"Gilbert du Motier de La Fayette\"))"
   ]
  },
  {
   "cell_type": "markdown",
   "metadata": {},
   "source": [
    "47. (4pts) Write a function that takes two arguments, name and hometown  and prints a statement that says, \"Well hello 'name', you must be from 'hometown' as an f string when called."
   ]
  },
  {
   "cell_type": "code",
   "execution_count": 703,
   "metadata": {},
   "outputs": [
    {
     "name": "stdin",
     "output_type": "stream",
     "text": [
      "what is your name? Dana\n",
      "what is your hometown St louis park\n"
     ]
    },
    {
     "name": "stdout",
     "output_type": "stream",
     "text": [
      "Well hello Dana, you must be fron St louis park\n"
     ]
    }
   ],
   "source": [
    "name = input(\"what is your name?\")\n",
    "hometown = input(\"what is your hometown\")\n",
    "print(f\"Well hello {name}, you must be fron {hometown}\")"
   ]
  },
  {
   "cell_type": "markdown",
   "metadata": {},
   "source": [
    "48. Write a script that takes an age as a user input and prints the following, based on conditions, using if, elif, and else:\n",
    "\n",
    "If the age is 1-18: print \"This individual is a minor. Their brain is still growing.\"\n",
    "If the age is 19-25: print. \"Though the brain may be done growing in size, it does not finish developing and maturing until the mid- to late 20s\"\n",
    "If the age is 26-40: \"Accomplish what you can before your brain rots!\"\n",
    "If the age is 41-100: \"Don't despair! For the first time, researchers have been able to identify superagers MRI images of the brains of superagers with an average age of 67 are remarkably similar to the brain of 25-year-olds.\""
   ]
  },
  {
   "cell_type": "code",
   "execution_count": 705,
   "metadata": {},
   "outputs": [
    {
     "name": "stdin",
     "output_type": "stream",
     "text": [
      "how old are you? 28\n"
     ]
    },
    {
     "name": "stdout",
     "output_type": "stream",
     "text": [
      "Accomplish what you can before your brain rots!\n"
     ]
    }
   ],
   "source": [
    "x = int(input(\"how old are you?\"))\n",
    "if x<19:\n",
    "    print(\"This individual is a minor. Their brain is still growing.\") \n",
    "elif x < 26: \n",
    "    print(\"Though the brain may be done growing in size, it does not finish developing and maturing until the mid- to late 20s\")\n",
    "elif x < 41:\n",
    "    print(\"Accomplish what you can before your brain rots!\")\n",
    "else:\n",
    "    print (\"Don't despair! For the first time, researchers have been able to identify superagers MRI images of the brains of superagers with an average age of 67 are remarkably similar to the brain of 25-year-olds.\")"
   ]
  },
  {
   "cell_type": "markdown",
   "metadata": {},
   "source": [
    "49.Write a while loop that counts down from 20 to \"blastoff\":\n",
    "\n",
    "hint: decrement each time using n = n -1 or using -=\n",
    "n = 20"
   ]
  },
  {
   "cell_type": "code",
   "execution_count": 707,
   "metadata": {},
   "outputs": [
    {
     "name": "stdout",
     "output_type": "stream",
     "text": [
      "20\n",
      "19\n",
      "18\n",
      "17\n",
      "16\n",
      "15\n",
      "14\n",
      "13\n",
      "12\n",
      "11\n",
      "10\n",
      "9\n",
      "8\n",
      "7\n",
      "6\n",
      "5\n",
      "4\n",
      "3\n",
      "2\n",
      "1\n",
      "Blastoff!\n"
     ]
    }
   ],
   "source": [
    "n = 20\n",
    "\n",
    "while n >= 0:\n",
    "    if n == 0:\n",
    "        print(\"Blastoff!\")\n",
    "    else:\n",
    "        print(n)\n",
    "    n -= 1"
   ]
  },
  {
   "cell_type": "code",
   "execution_count": 708,
   "metadata": {},
   "outputs": [],
   "source": [
    "50.#Write code, usting the strip method, to remove the unecessary characters, and add a space to print Jackson Python\n",
    "\n",
    "jackson_string = \"grrrrr....ughhhh..JacksonPython@@@!!!!\"\n"
   ]
  },
  {
   "cell_type": "code",
   "execution_count": 709,
   "metadata": {},
   "outputs": [
    {
     "name": "stdout",
     "output_type": "stream",
     "text": [
      "JacksonPython@@@!!!!\n",
      "JacksonPython\n",
      "Jackson Python\n"
     ]
    }
   ],
   "source": [
    "jackson_string = \"grrrrr....ughhhh..JacksonPython@@@!!!!\"\n",
    "jackson_string2 = jackson_string.strip(\"grrrrr....ughhhh..\")\n",
    "print(jackson_string2)\n",
    "jackson_string3 = jackson_string2.strip(\"@@@!!!!\")\n",
    "print(jackson_string3)\n",
    "split = jackson_string3.split(\"Python\")\n",
    "jackson_string4 = f\"{split[0]} Python\"  # f-string syntax\n",
    "print(jackson_string4)"
   ]
  },
  {
   "cell_type": "code",
   "execution_count": null,
   "metadata": {},
   "outputs": [],
   "source": []
  }
 ],
 "metadata": {
  "kernelspec": {
   "display_name": "Python 3 (ipykernel)",
   "language": "python",
   "name": "python3"
  },
  "language_info": {
   "codemirror_mode": {
    "name": "ipython",
    "version": 3
   },
   "file_extension": ".py",
   "mimetype": "text/x-python",
   "name": "python",
   "nbconvert_exporter": "python",
   "pygments_lexer": "ipython3",
   "version": "3.12.4"
  }
 },
 "nbformat": 4,
 "nbformat_minor": 4
}
